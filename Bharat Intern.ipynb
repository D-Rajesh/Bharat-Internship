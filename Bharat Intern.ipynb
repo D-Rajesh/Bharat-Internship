  {
   "cell_type": "code",
   "execution_count": 2,
   "id": "dcd33857",
   "metadata": {},
   "outputs": [],
   "source": [
    "import pandas_datareader as pdr"
   ]
  },
  {
   "cell_type": "code",
   "execution_count": 3,
   "id": "e6d684cd",
   "metadata": {},
   "outputs": [
    {
     "name": "stderr",
     "output_type": "stream",
     "text": [
      "C:\\Users\\Dell\\anaconda3\\lib\\site-packages\\pandas_datareader\\tiingo.py:234: FutureWarning: In a future version of pandas all arguments of concat except for the argument 'objs' will be keyword-only\n",
      "  return pd.concat(dfs, self._concat_axis)\n"
     ]
    }
   ],
   "source": [
    "df=pdr.get_data_tiingo('AAPL',api_key=key)"
   ]
  },
  {
   "cell_type": "code",
   "execution_count": 4,
   "id": "3c265a15",
   "metadata": {},
   "outputs": [],
   "source": [
    "df.to_csv('AAPL.csv')"
   ]
  },
  {
   "cell_type": "code",
   "execution_count": 5,
   "id": "dfaff7ef",
   "metadata": {},
   "outputs": [],
   "source": [
    "import pandas as pd"
   ]
  },
  {
   "cell_type": "code",
   "execution_count": 6,
   "id": "40fa3576",
   "metadata": {},
   "outputs": [],
   "source": [
    "df=pd.read_csv('AAPL.csv')"
   ]
  },
  {
   "cell_type": "code",
   "execution_count": 7,
   "id": "1a438d9b",
   "metadata": {},
   "outputs": [
    {
     "data": {
      "text/html": [
       "<div>\n",
       "<style scoped>\n",
       "    .dataframe tbody tr th:only-of-type {\n",
       "        vertical-align: middle;\n",
       "    }\n",
       "\n",
       "    .dataframe tbody tr th {\n",
       "        vertical-align: top;\n",
       "    }\n",
       "\n",
       "    .dataframe thead th {\n",
       "        text-align: right;\n",
       "    }\n",
       "</style>\n",
       "<table border=\"1\" class=\"dataframe\">\n",
       "  <thead>\n",
       "    <tr style=\"text-align: right;\">\n",
       "      <th></th>\n",
       "      <th>symbol</th>\n",
       "      <th>date</th>\n",
       "      <th>close</th>\n",
       "      <th>high</th>\n",
       "      <th>low</th>\n",
       "      <th>open</th>\n",
       "      <th>volume</th>\n",
       "      <th>adjClose</th>\n",
       "      <th>adjHigh</th>\n",
       "      <th>adjLow</th>\n",
       "      <th>adjOpen</th>\n",
       "      <th>adjVolume</th>\n",
       "      <th>divCash</th>\n",
       "      <th>splitFactor</th>\n",
       "    </tr>\n",
       "  </thead>\n",
       "  <tbody>\n",
       "    <tr>\n",
       "      <th>0</th>\n",
       "      <td>AAPL</td>\n",
       "      <td>2018-05-30 00:00:00+00:00</td>\n",
       "      <td>187.50</td>\n",
       "      <td>188.00</td>\n",
       "      <td>186.78</td>\n",
       "      <td>187.72</td>\n",
       "      <td>18690547</td>\n",
       "      <td>44.793505</td>\n",
       "      <td>44.912954</td>\n",
       "      <td>44.621498</td>\n",
       "      <td>44.846063</td>\n",
       "      <td>74762188</td>\n",
       "      <td>0.0</td>\n",
       "      <td>1.0</td>\n",
       "    </tr>\n",
       "    <tr>\n",
       "      <th>1</th>\n",
       "      <td>AAPL</td>\n",
       "      <td>2018-05-31 00:00:00+00:00</td>\n",
       "      <td>186.87</td>\n",
       "      <td>188.23</td>\n",
       "      <td>186.14</td>\n",
       "      <td>187.22</td>\n",
       "      <td>27482793</td>\n",
       "      <td>44.642999</td>\n",
       "      <td>44.967901</td>\n",
       "      <td>44.468603</td>\n",
       "      <td>44.726613</td>\n",
       "      <td>109931172</td>\n",
       "      <td>0.0</td>\n",
       "      <td>1.0</td>\n",
       "    </tr>\n",
       "    <tr>\n",
       "      <th>2</th>\n",
       "      <td>AAPL</td>\n",
       "      <td>2018-06-01 00:00:00+00:00</td>\n",
       "      <td>190.24</td>\n",
       "      <td>190.26</td>\n",
       "      <td>187.75</td>\n",
       "      <td>187.99</td>\n",
       "      <td>23442510</td>\n",
       "      <td>45.448087</td>\n",
       "      <td>45.452865</td>\n",
       "      <td>44.853230</td>\n",
       "      <td>44.910565</td>\n",
       "      <td>93770040</td>\n",
       "      <td>0.0</td>\n",
       "      <td>1.0</td>\n",
       "    </tr>\n",
       "    <tr>\n",
       "      <th>3</th>\n",
       "      <td>AAPL</td>\n",
       "      <td>2018-06-04 00:00:00+00:00</td>\n",
       "      <td>191.83</td>\n",
       "      <td>193.42</td>\n",
       "      <td>191.35</td>\n",
       "      <td>191.64</td>\n",
       "      <td>26266174</td>\n",
       "      <td>45.827936</td>\n",
       "      <td>46.207785</td>\n",
       "      <td>45.713265</td>\n",
       "      <td>45.782545</td>\n",
       "      <td>105064696</td>\n",
       "      <td>0.0</td>\n",
       "      <td>1.0</td>\n",
       "    </tr>\n",
       "    <tr>\n",
       "      <th>4</th>\n",
       "      <td>AAPL</td>\n",
       "      <td>2018-06-05 00:00:00+00:00</td>\n",
       "      <td>193.31</td>\n",
       "      <td>193.94</td>\n",
       "      <td>192.36</td>\n",
       "      <td>193.07</td>\n",
       "      <td>21565963</td>\n",
       "      <td>46.181506</td>\n",
       "      <td>46.332012</td>\n",
       "      <td>45.954552</td>\n",
       "      <td>46.124171</td>\n",
       "      <td>86263852</td>\n",
       "      <td>0.0</td>\n",
       "      <td>1.0</td>\n",
       "    </tr>\n",
       "  </tbody>\n",
       "</table>\n",
       "</div>"
      ],
      "text/plain": [
       "  symbol                       date   close    high     low    open    volume  \\\n",
       "0   AAPL  2018-05-30 00:00:00+00:00  187.50  188.00  186.78  187.72  18690547   \n",
       "1   AAPL  2018-05-31 00:00:00+00:00  186.87  188.23  186.14  187.22  27482793   \n",
       "2   AAPL  2018-06-01 00:00:00+00:00  190.24  190.26  187.75  187.99  23442510   \n",
       "3   AAPL  2018-06-04 00:00:00+00:00  191.83  193.42  191.35  191.64  26266174   \n",
       "4   AAPL  2018-06-05 00:00:00+00:00  193.31  193.94  192.36  193.07  21565963   \n",
       "\n",
       "    adjClose    adjHigh     adjLow    adjOpen  adjVolume  divCash  splitFactor  \n",
       "0  44.793505  44.912954  44.621498  44.846063   74762188      0.0          1.0  \n",
       "1  44.642999  44.967901  44.468603  44.726613  109931172      0.0          1.0  \n",
       "2  45.448087  45.452865  44.853230  44.910565   93770040      0.0          1.0  \n",
       "3  45.827936  46.207785  45.713265  45.782545  105064696      0.0          1.0  \n",
       "4  46.181506  46.332012  45.954552  46.124171   86263852      0.0          1.0  "
      ]
     },
     "execution_count": 7,
     "metadata": {},
     "output_type": "execute_result"
    }
   ],
   "source": [
    "df.head()"
   ]
  },
  {
   "cell_type": "code",
   "execution_count": 8,
   "id": "fdbc0cc4",
   "metadata": {},
   "outputs": [
    {
     "data": {
      "text/html": [
       "<div>\n",
       "<style scoped>\n",
       "    .dataframe tbody tr th:only-of-type {\n",
       "        vertical-align: middle;\n",
       "    }\n",
       "\n",
       "    .dataframe tbody tr th {\n",
       "        vertical-align: top;\n",
       "    }\n",
       "\n",
       "    .dataframe thead th {\n",
       "        text-align: right;\n",
       "    }\n",
       "</style>\n",
       "<table border=\"1\" class=\"dataframe\">\n",
       "  <thead>\n",
       "    <tr style=\"text-align: right;\">\n",
       "      <th></th>\n",
       "      <th>symbol</th>\n",
       "      <th>date</th>\n",
       "      <th>close</th>\n",
       "      <th>high</th>\n",
       "      <th>low</th>\n",
       "      <th>open</th>\n",
       "      <th>volume</th>\n",
       "      <th>adjClose</th>\n",
       "      <th>adjHigh</th>\n",
       "      <th>adjLow</th>\n",
       "      <th>adjOpen</th>\n",
       "      <th>adjVolume</th>\n",
       "      <th>divCash</th>\n",
       "      <th>splitFactor</th>\n",
       "    </tr>\n",
       "  </thead>\n",
       "  <tbody>\n",
       "    <tr>\n",
       "      <th>1253</th>\n",
       "      <td>AAPL</td>\n",
       "      <td>2023-05-22 00:00:00+00:00</td>\n",
       "      <td>174.20</td>\n",
       "      <td>174.7100</td>\n",
       "      <td>173.450</td>\n",
       "      <td>173.98</td>\n",
       "      <td>43570932</td>\n",
       "      <td>174.20</td>\n",
       "      <td>174.7100</td>\n",
       "      <td>173.450</td>\n",
       "      <td>173.98</td>\n",
       "      <td>43570932</td>\n",
       "      <td>0.0</td>\n",
       "      <td>1.0</td>\n",
       "    </tr>\n",
       "    <tr>\n",
       "      <th>1254</th>\n",
       "      <td>AAPL</td>\n",
       "      <td>2023-05-23 00:00:00+00:00</td>\n",
       "      <td>171.56</td>\n",
       "      <td>173.3794</td>\n",
       "      <td>171.275</td>\n",
       "      <td>173.13</td>\n",
       "      <td>50747263</td>\n",
       "      <td>171.56</td>\n",
       "      <td>173.3794</td>\n",
       "      <td>171.275</td>\n",
       "      <td>173.13</td>\n",
       "      <td>50747263</td>\n",
       "      <td>0.0</td>\n",
       "      <td>1.0</td>\n",
       "    </tr>\n",
       "    <tr>\n",
       "      <th>1255</th>\n",
       "      <td>AAPL</td>\n",
       "      <td>2023-05-24 00:00:00+00:00</td>\n",
       "      <td>171.84</td>\n",
       "      <td>172.4183</td>\n",
       "      <td>170.520</td>\n",
       "      <td>171.09</td>\n",
       "      <td>45143488</td>\n",
       "      <td>171.84</td>\n",
       "      <td>172.4183</td>\n",
       "      <td>170.520</td>\n",
       "      <td>171.09</td>\n",
       "      <td>45143488</td>\n",
       "      <td>0.0</td>\n",
       "      <td>1.0</td>\n",
       "    </tr>\n",
       "    <tr>\n",
       "      <th>1256</th>\n",
       "      <td>AAPL</td>\n",
       "      <td>2023-05-25 00:00:00+00:00</td>\n",
       "      <td>172.99</td>\n",
       "      <td>173.8950</td>\n",
       "      <td>171.690</td>\n",
       "      <td>172.41</td>\n",
       "      <td>56058258</td>\n",
       "      <td>172.99</td>\n",
       "      <td>173.8950</td>\n",
       "      <td>171.690</td>\n",
       "      <td>172.41</td>\n",
       "      <td>56058258</td>\n",
       "      <td>0.0</td>\n",
       "      <td>1.0</td>\n",
       "    </tr>\n",
       "    <tr>\n",
       "      <th>1257</th>\n",
       "      <td>AAPL</td>\n",
       "      <td>2023-05-26 00:00:00+00:00</td>\n",
       "      <td>175.43</td>\n",
       "      <td>175.7700</td>\n",
       "      <td>173.110</td>\n",
       "      <td>173.32</td>\n",
       "      <td>54834975</td>\n",
       "      <td>175.43</td>\n",
       "      <td>175.7700</td>\n",
       "      <td>173.110</td>\n",
       "      <td>173.32</td>\n",
       "      <td>54834975</td>\n",
       "      <td>0.0</td>\n",
       "      <td>1.0</td>\n",
       "    </tr>\n",
       "  </tbody>\n",
       "</table>\n",
       "</div>"
      ],
      "text/plain": [
       "     symbol                       date   close      high      low    open  \\\n",
       "1253   AAPL  2023-05-22 00:00:00+00:00  174.20  174.7100  173.450  173.98   \n",
       "1254   AAPL  2023-05-23 00:00:00+00:00  171.56  173.3794  171.275  173.13   \n",
       "1255   AAPL  2023-05-24 00:00:00+00:00  171.84  172.4183  170.520  171.09   \n",
       "1256   AAPL  2023-05-25 00:00:00+00:00  172.99  173.8950  171.690  172.41   \n",
       "1257   AAPL  2023-05-26 00:00:00+00:00  175.43  175.7700  173.110  173.32   \n",
       "\n",
       "        volume  adjClose   adjHigh   adjLow  adjOpen  adjVolume  divCash  \\\n",
       "1253  43570932    174.20  174.7100  173.450   173.98   43570932      0.0   \n",
       "1254  50747263    171.56  173.3794  171.275   173.13   50747263      0.0   \n",
       "1255  45143488    171.84  172.4183  170.520   171.09   45143488      0.0   \n",
       "1256  56058258    172.99  173.8950  171.690   172.41   56058258      0.0   \n",
       "1257  54834975    175.43  175.7700  173.110   173.32   54834975      0.0   \n",
       "\n",
       "      splitFactor  \n",
       "1253          1.0  \n",
       "1254          1.0  \n",
       "1255          1.0  \n",
       "1256          1.0  \n",
       "1257          1.0  "
      ]
     },
     "execution_count": 8,
     "metadata": {},
     "output_type": "execute_result"
    }
   ],
   "source": [
    "df.tail()"
   ]
  },
  {
   "cell_type": "code",
   "execution_count": 9,
   "id": "febdae02",
   "metadata": {},
   "outputs": [],
   "source": [
    "df1=df.reset_index()['close']"
   ]
  },
  {
   "cell_type": "code",
   "execution_count": 10,
   "id": "a6316240",
   "metadata": {},
   "outputs": [
    {
     "data": {
      "text/plain": [
       "(1258,)"
      ]
     },
     "execution_count": 10,
     "metadata": {},
     "output_type": "execute_result"
    }
   ],
   "source": [
    "df1.shape"
   ]
  },
  {
   "cell_type": "code",
   "execution_count": 11,
   "id": "d464324d",
   "metadata": {},
   "outputs": [],
   "source": [
    "import matplotlib.pyplot as plt"
   ]
  },
  {
   "cell_type": "code",
   "execution_count": 12,
   "id": "8c8ce768",
   "metadata": {},
   "outputs": [
    {
     "data": {
      "image/png": "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\n",
      "text/plain": [
       "<Figure size 432x288 with 1 Axes>"
      ]
     },
     "metadata": {
      "needs_background": "light"
     },
     "output_type": "display_data"
    }
   ],
   "source": [
    "plt.plot(df1);"
   ]
  },
  {
   "cell_type": "code",
   "execution_count": 13,
   "id": "b5f0ed40",
   "metadata": {},
   "outputs": [],
   "source": [
    "# LSTM are sensitive to the scale of the data. We apply min max scaler to it."
   ]
  },
  {
   "cell_type": "code",
   "execution_count": 14,
   "id": "57b69d78",
   "metadata": {},
   "outputs": [],
   "source": [
    "import numpy as np\n",
    "from sklearn.preprocessing import MinMaxScaler"
   ]
  },
  {
   "cell_type": "code",
   "execution_count": 15,
   "id": "70a152c5",
   "metadata": {},
   "outputs": [],
   "source": [
    "scaler=MinMaxScaler(feature_range=(0,1))\n",
    "df1=scaler.fit_transform(np.array(df1).reshape(-1,1))"
   ]
  },
  {
   "cell_type": "code",
   "execution_count": 16,
   "id": "00f3ab51",
   "metadata": {},
   "outputs": [
    {
     "data": {
      "text/plain": [
       "(1258, 1)"
      ]
     },
     "execution_count": 16,
     "metadata": {},
     "output_type": "execute_result"
    }
   ],
   "source": [
    "df1.shape"
   ]
  },
  {
   "cell_type": "code",
   "execution_count": 17,
   "id": "0ac9bc33",
   "metadata": {},
   "outputs": [
    {
     "data": {
      "text/plain": [
       "array([[0.2020288 ],\n",
       "       [0.20045085],\n",
       "       [0.20889167],\n",
       "       ...,\n",
       "       [0.16280526],\n",
       "       [0.16568566],\n",
       "       [0.17179712]])"
      ]
     },
     "execution_count": 17,
     "metadata": {},
     "output_type": "execute_result"
    }
   ],
   "source": [
    "df1"
   ]
  },
  {
   "cell_type": "code",
   "execution_count": 18,
   "id": "ac84a1b7",
   "metadata": {},
   "outputs": [],
   "source": [
    "training_size=int(len(df1)*0.70)\n",
    "test_size=len(df1)-training_size\n",
    "train_data,test_data=df1[0:training_size,:],df1[training_size:len(df1),:1]"
   ]
  },
  {
   "cell_type": "code",
   "execution_count": 19,
   "id": "119cb3cb",
   "metadata": {},
   "outputs": [
    {
     "data": {
      "text/plain": [
       "(880, 378)"
      ]
     },
     "execution_count": 19,
     "metadata": {},
     "output_type": "execute_result"
    }
   ],
   "source": [
    "training_size,test_size"
   ]
  },
  {
   "cell_type": "code",
   "execution_count": 20,
   "id": "3ea3ef6f",
   "metadata": {},
   "outputs": [
    {
     "data": {
      "text/plain": [
       "(880, 378)"
      ]
     },
     "execution_count": 20,
     "metadata": {},
     "output_type": "execute_result"
    }
   ],
   "source": [
    "len(train_data),len(test_data)"
   ]
  },
  {
   "cell_type": "code",
   "execution_count": 21,
   "id": "abbf63f7",
   "metadata": {},
   "outputs": [],
   "source": [
    "import numpy"
   ]
  },
  {
   "cell_type": "code",
   "execution_count": 22,
   "id": "7ec6fe4b",
   "metadata": {},
   "outputs": [],
   "source": [
    "def create_dataset(dataset, time_step=1):\n",
    "    dataX, dataY = [], []\n",
    "    for i in range (len(dataset)-time_step-1):\n",
    "        a= dataset[i:(i+time_step),0]\n",
    "        dataX.append(a)\n",
    "        dataY.append(dataset[i + time_step, 0])\n",
    "    return numpy.array(dataX), numpy.array(dataY)"
   ]
  },
  {
   "cell_type": "code",
   "execution_count": 23,
   "id": "de19b071",
   "metadata": {},
   "outputs": [],
   "source": [
    "time_step=100\n",
    "X_train, y_train= create_dataset(train_data,time_step)\n",
    "X_test,y_test=create_dataset(test_data, time_step)"
   ]
  },
  {
   "cell_type": "code",
   "execution_count": 24,
   "id": "addb464d",
   "metadata": {},
   "outputs": [
    {
     "name": "stdout",
     "output_type": "stream",
     "text": [
      "[[0.2020288  0.20045085 0.20889167 ... 0.28881653 0.28641202 0.27346274]\n",
      " [0.20045085 0.20889167 0.21287414 ... 0.28641202 0.27346274 0.28170319]\n",
      " [0.20889167 0.21287414 0.21658109 ... 0.27346274 0.28170319 0.28505949]\n",
      " ...\n",
      " [0.07386349 0.07544145 0.07621791 ... 0.10810269 0.11060739 0.11684408]\n",
      " [0.07544145 0.07621791 0.08295554 ... 0.11060739 0.11684408 0.12781465]\n",
      " [0.07621791 0.08295554 0.08811522 ... 0.11684408 0.12781465 0.13452724]]\n"
     ]
    }
   ],
   "source": [
    "print(X_train)"
   ]
  },
  {
   "cell_type": "code",
   "execution_count": 25,
   "id": "68ed4773",
   "metadata": {},
   "outputs": [],
   "source": [
    "X_train=X_train.reshape(X_train.shape[0],X_train.shape[1], 1)\n",
    "X_test=X_test.reshape(X_test.shape[0],X_test.shape[1], 1)"
   ]
  },
  {
   "cell_type": "markdown",
   "id": "9bb1bde4",
   "metadata": {},
   "source": [
    "## Create LSTM model"
   ]
  },
  {
   "cell_type": "code",
   "execution_count": 26,
   "id": "b8cda44e",
   "metadata": {
    "scrolled": true
   },
   "outputs": [
    {
     "name": "stdout",
     "output_type": "stream",
     "text": [
      "Requirement already satisfied: tensorflow in c:\\users\\dell\\anaconda3\\lib\\site-packages (2.12.0)\n",
      "Requirement already satisfied: tensorflow-intel==2.12.0 in c:\\users\\dell\\anaconda3\\lib\\site-packages (from tensorflow) (2.12.0)\n",
      "Requirement already satisfied: google-pasta>=0.1.1 in c:\\users\\dell\\anaconda3\\lib\\site-packages (from tensorflow-intel==2.12.0->tensorflow) (0.2.0)\n",
      "Requirement already satisfied: typing-extensions>=3.6.6 in c:\\users\\dell\\anaconda3\\lib\\site-packages (from tensorflow-intel==2.12.0->tensorflow) (3.10.0.2)\n",
      "Requirement already satisfied: astunparse>=1.6.0 in c:\\users\\dell\\anaconda3\\lib\\site-packages (from tensorflow-intel==2.12.0->tensorflow) (1.6.3)\n",
      "Requirement already satisfied: six>=1.12.0 in c:\\users\\dell\\anaconda3\\lib\\site-packages (from tensorflow-intel==2.12.0->tensorflow) (1.16.0)\n",
      "Requirement already satisfied: opt-einsum>=2.3.2 in c:\\users\\dell\\anaconda3\\lib\\site-packages (from tensorflow-intel==2.12.0->tensorflow) (3.3.0)\n",
      "Note: you may need to restart the kernel to use updated packages.\n",
      "Requirement already satisfied: keras<2.13,>=2.12.0 in c:\\users\\dell\\anaconda3\\lib\\site-packages (from tensorflow-intel==2.12.0->tensorflow) (2.12.0)\n",
      "Requirement already satisfied: setuptools in c:\\users\\dell\\anaconda3\\lib\\site-packages (from tensorflow-intel==2.12.0->tensorflow) (58.0.4)\n",
      "Requirement already satisfied: protobuf!=4.21.0,!=4.21.1,!=4.21.2,!=4.21.3,!=4.21.4,!=4.21.5,<5.0.0dev,>=3.20.3 in c:\\users\\dell\\anaconda3\\lib\\site-packages (from tensorflow-intel==2.12.0->tensorflow) (4.23.2)\n",
      "Requirement already satisfied: tensorflow-estimator<2.13,>=2.12.0 in c:\\users\\dell\\anaconda3\\lib\\site-packages (from tensorflow-intel==2.12.0->tensorflow) (2.12.0)\n",
      "Requirement already satisfied: packaging in c:\\users\\dell\\anaconda3\\lib\\site-packages (from tensorflow-intel==2.12.0->tensorflow) (21.0)\n",
      "Requirement already satisfied: tensorflow-io-gcs-filesystem>=0.23.1 in c:\\users\\dell\\anaconda3\\lib\\site-packages (from tensorflow-intel==2.12.0->tensorflow) (0.31.0)\n",
      "Requirement already satisfied: wrapt<1.15,>=1.11.0 in c:\\users\\dell\\anaconda3\\lib\\site-packages (from tensorflow-intel==2.12.0->tensorflow) (1.12.1)\n",
      "Requirement already satisfied: grpcio<2.0,>=1.24.3 in c:\\users\\dell\\anaconda3\\lib\\site-packages (from tensorflow-intel==2.12.0->tensorflow) (1.54.2)\n",
      "Requirement already satisfied: absl-py>=1.0.0 in c:\\users\\dell\\anaconda3\\lib\\site-packages (from tensorflow-intel==2.12.0->tensorflow) (1.4.0)\n",
      "Requirement already satisfied: termcolor>=1.1.0 in c:\\users\\dell\\anaconda3\\lib\\site-packages (from tensorflow-intel==2.12.0->tensorflow) (2.3.0)\n",
      "Requirement already satisfied: tensorboard<2.13,>=2.12 in c:\\users\\dell\\anaconda3\\lib\\site-packages (from tensorflow-intel==2.12.0->tensorflow) (2.12.3)\n",
      "Requirement already satisfied: jax>=0.3.15 in c:\\users\\dell\\anaconda3\\lib\\site-packages (from tensorflow-intel==2.12.0->tensorflow) (0.4.10)\n",
      "Requirement already satisfied: libclang>=13.0.0 in c:\\users\\dell\\anaconda3\\lib\\site-packages (from tensorflow-intel==2.12.0->tensorflow) (16.0.0)\n",
      "Requirement already satisfied: h5py>=2.9.0 in c:\\users\\dell\\anaconda3\\lib\\site-packages (from tensorflow-intel==2.12.0->tensorflow) (3.2.1)\n",
      "Requirement already satisfied: numpy<1.24,>=1.22 in c:\\users\\dell\\anaconda3\\lib\\site-packages (from tensorflow-intel==2.12.0->tensorflow) (1.22.4)\n",
      "Requirement already satisfied: gast<=0.4.0,>=0.2.1 in c:\\users\\dell\\anaconda3\\lib\\site-packages (from tensorflow-intel==2.12.0->tensorflow) (0.4.0)\n",
      "Requirement already satisfied: flatbuffers>=2.0 in c:\\users\\dell\\anaconda3\\lib\\site-packages (from tensorflow-intel==2.12.0->tensorflow) (23.5.26)\n",
      "Requirement already satisfied: wheel<1.0,>=0.23.0 in c:\\users\\dell\\anaconda3\\lib\\site-packages (from astunparse>=1.6.0->tensorflow-intel==2.12.0->tensorflow) (0.37.0)\n",
      "Requirement already satisfied: scipy>=1.7 in c:\\users\\dell\\anaconda3\\lib\\site-packages (from jax>=0.3.15->tensorflow-intel==2.12.0->tensorflow) (1.7.1)\n",
      "Requirement already satisfied: ml-dtypes>=0.1.0 in c:\\users\\dell\\anaconda3\\lib\\site-packages (from jax>=0.3.15->tensorflow-intel==2.12.0->tensorflow) (0.1.0)\n",
      "Requirement already satisfied: google-auth-oauthlib<1.1,>=0.5 in c:\\users\\dell\\anaconda3\\lib\\site-packages (from tensorboard<2.13,>=2.12->tensorflow-intel==2.12.0->tensorflow) (1.0.0)\n",
      "Requirement already satisfied: werkzeug>=1.0.1 in c:\\users\\dell\\anaconda3\\lib\\site-packages (from tensorboard<2.13,>=2.12->tensorflow-intel==2.12.0->tensorflow) (2.0.2)\n",
      "Requirement already satisfied: tensorboard-data-server<0.8.0,>=0.7.0 in c:\\users\\dell\\anaconda3\\lib\\site-packages (from tensorboard<2.13,>=2.12->tensorflow-intel==2.12.0->tensorflow) (0.7.0)\n",
      "Requirement already satisfied: google-auth<3,>=1.6.3 in c:\\users\\dell\\anaconda3\\lib\\site-packages (from tensorboard<2.13,>=2.12->tensorflow-intel==2.12.0->tensorflow) (2.19.0)\n",
      "Requirement already satisfied: markdown>=2.6.8 in c:\\users\\dell\\anaconda3\\lib\\site-packages (from tensorboard<2.13,>=2.12->tensorflow-intel==2.12.0->tensorflow) (3.4.3)\n",
      "Requirement already satisfied: requests<3,>=2.21.0 in c:\\users\\dell\\anaconda3\\lib\\site-packages (from tensorboard<2.13,>=2.12->tensorflow-intel==2.12.0->tensorflow) (2.26.0)\n",
      "Requirement already satisfied: urllib3<2.0 in c:\\users\\dell\\anaconda3\\lib\\site-packages (from google-auth<3,>=1.6.3->tensorboard<2.13,>=2.12->tensorflow-intel==2.12.0->tensorflow) (1.26.7)\n",
      "Requirement already satisfied: pyasn1-modules>=0.2.1 in c:\\users\\dell\\anaconda3\\lib\\site-packages (from google-auth<3,>=1.6.3->tensorboard<2.13,>=2.12->tensorflow-intel==2.12.0->tensorflow) (0.3.0)\n",
      "Requirement already satisfied: rsa<5,>=3.1.4 in c:\\users\\dell\\anaconda3\\lib\\site-packages (from google-auth<3,>=1.6.3->tensorboard<2.13,>=2.12->tensorflow-intel==2.12.0->tensorflow) (4.9)\n",
      "Requirement already satisfied: cachetools<6.0,>=2.0.0 in c:\\users\\dell\\anaconda3\\lib\\site-packages (from google-auth<3,>=1.6.3->tensorboard<2.13,>=2.12->tensorflow-intel==2.12.0->tensorflow) (5.3.1)\n",
      "Requirement already satisfied: requests-oauthlib>=0.7.0 in c:\\users\\dell\\anaconda3\\lib\\site-packages (from google-auth-oauthlib<1.1,>=0.5->tensorboard<2.13,>=2.12->tensorflow-intel==2.12.0->tensorflow) (1.3.1)\n",
      "Requirement already satisfied: importlib-metadata>=4.4 in c:\\users\\dell\\anaconda3\\lib\\site-packages (from markdown>=2.6.8->tensorboard<2.13,>=2.12->tensorflow-intel==2.12.0->tensorflow) (4.8.1)\n",
      "Requirement already satisfied: zipp>=0.5 in c:\\users\\dell\\anaconda3\\lib\\site-packages (from importlib-metadata>=4.4->markdown>=2.6.8->tensorboard<2.13,>=2.12->tensorflow-intel==2.12.0->tensorflow) (3.6.0)\n",
      "Requirement already satisfied: pyasn1<0.6.0,>=0.4.6 in c:\\users\\dell\\anaconda3\\lib\\site-packages (from pyasn1-modules>=0.2.1->google-auth<3,>=1.6.3->tensorboard<2.13,>=2.12->tensorflow-intel==2.12.0->tensorflow) (0.5.0)\n",
      "Requirement already satisfied: charset-normalizer~=2.0.0 in c:\\users\\dell\\anaconda3\\lib\\site-packages (from requests<3,>=2.21.0->tensorboard<2.13,>=2.12->tensorflow-intel==2.12.0->tensorflow) (2.0.4)\n",
      "Requirement already satisfied: idna<4,>=2.5 in c:\\users\\dell\\anaconda3\\lib\\site-packages (from requests<3,>=2.21.0->tensorboard<2.13,>=2.12->tensorflow-intel==2.12.0->tensorflow) (3.2)\n",
      "Requirement already satisfied: certifi>=2017.4.17 in c:\\users\\dell\\anaconda3\\lib\\site-packages (from requests<3,>=2.21.0->tensorboard<2.13,>=2.12->tensorflow-intel==2.12.0->tensorflow) (2021.10.8)\n",
      "Requirement already satisfied: oauthlib>=3.0.0 in c:\\users\\dell\\anaconda3\\lib\\site-packages (from requests-oauthlib>=0.7.0->google-auth-oauthlib<1.1,>=0.5->tensorboard<2.13,>=2.12->tensorflow-intel==2.12.0->tensorflow) (3.2.2)\n",
      "Requirement already satisfied: pyparsing>=2.0.2 in c:\\users\\dell\\anaconda3\\lib\\site-packages (from packaging->tensorflow-intel==2.12.0->tensorflow) (3.0.4)\n"
     ]
    }
   ],
   "source": [
    "pip install tensorflow"
   ]
  },
  {
   "cell_type": "code",
   "execution_count": 27,
   "id": "a901ce5d",
   "metadata": {},
   "outputs": [],
   "source": [
    "from tensorflow.keras.models import Sequential\n",
    "from tensorflow.keras.layers import Dense\n",
    "from tensorflow.keras.layers import LSTM"
   ]
  },
  {
   "cell_type": "code",
   "execution_count": 28,
   "id": "0f27e826",
   "metadata": {},
   "outputs": [],
   "source": [
    "model=Sequential()\n",
    "\n",
    "model.add(LSTM(50, return_sequences=True, input_shape=(100,1))) \n",
    "model.add(LSTM(50, return_sequences=True)) \n",
    "\n",
    "model.add(LSTM(50)) \n",
    "model.add(Dense(1))\n",
    "\n",
    "model.compile(loss='mean_squared_error', optimizer='adam')"
   ]
  },
  {
   "cell_type": "code",
   "execution_count": 29,
   "id": "548553a4",
   "metadata": {},
   "outputs": [
    {
     "name": "stdout",
     "output_type": "stream",
     "text": [
      "Model: \"sequential\"\n",
      "_________________________________________________________________\n",
      " Layer (type)                Output Shape              Param #   \n",
      "=================================================================\n",
      " lstm (LSTM)                 (None, 100, 50)           10400     \n",
      "                                                                 \n",
      " lstm_1 (LSTM)               (None, 100, 50)           20200     \n",
      "                                                                 \n",
      " lstm_2 (LSTM)               (None, 50)                20200     \n",
      "                                                                 \n",
      " dense (Dense)               (None, 1)                 51        \n",
      "                                                                 \n",
      "=================================================================\n",
      "Total params: 50,851\n",
      "Trainable params: 50,851\n",
      "Non-trainable params: 0\n",
      "_________________________________________________________________\n"
     ]
    }
   ],
   "source": [
    "model.summary()"
   ]
  },
  {
   "cell_type": "code",
   "execution_count": 30,
   "id": "343aeb2e",
   "metadata": {
    "scrolled": true
   },
   "outputs": [
    {
     "name": "stdout",
     "output_type": "stream",
     "text": [
      "Epoch 1/100\n",
      "13/13 [==============================] - 15s 469ms/step - loss: 0.0344 - val_loss: 4.8010e-04\n",
      "Epoch 2/100\n",
      "13/13 [==============================] - 4s 291ms/step - loss: 0.0183 - val_loss: 0.0087\n",
      "Epoch 3/100\n",
      "13/13 [==============================] - 4s 319ms/step - loss: 0.0109 - val_loss: 9.8305e-04\n",
      "Epoch 4/100\n",
      "13/13 [==============================] - 4s 295ms/step - loss: 0.0089 - val_loss: 0.0012\n",
      "Epoch 5/100\n",
      "13/13 [==============================] - 4s 301ms/step - loss: 0.0088 - val_loss: 9.6627e-04\n",
      "Epoch 6/100\n",
      "13/13 [==============================] - 4s 270ms/step - loss: 0.0075 - val_loss: 3.4578e-04\n",
      "Epoch 7/100\n",
      "13/13 [==============================] - 4s 285ms/step - loss: 0.0066 - val_loss: 3.3322e-04\n",
      "Epoch 8/100\n",
      "13/13 [==============================] - 4s 290ms/step - loss: 0.0068 - val_loss: 6.7210e-04\n",
      "Epoch 9/100\n",
      "13/13 [==============================] - 4s 271ms/step - loss: 0.0059 - val_loss: 5.1932e-04\n",
      "Epoch 10/100\n",
      "13/13 [==============================] - 4s 274ms/step - loss: 0.0052 - val_loss: 2.8320e-04\n",
      "Epoch 11/100\n",
      "13/13 [==============================] - 4s 272ms/step - loss: 0.0073 - val_loss: 3.0477e-04\n",
      "Epoch 12/100\n",
      "13/13 [==============================] - 4s 280ms/step - loss: 0.0048 - val_loss: 0.0015\n",
      "Epoch 13/100\n",
      "13/13 [==============================] - 4s 273ms/step - loss: 0.0049 - val_loss: 2.9622e-04\n",
      "Epoch 14/100\n",
      "13/13 [==============================] - 4s 276ms/step - loss: 0.0038 - val_loss: 2.5276e-04\n",
      "Epoch 15/100\n",
      "13/13 [==============================] - 4s 280ms/step - loss: 0.0036 - val_loss: 3.3090e-04\n",
      "Epoch 16/100\n",
      "13/13 [==============================] - 4s 274ms/step - loss: 0.0050 - val_loss: 3.7650e-04\n",
      "Epoch 17/100\n",
      "13/13 [==============================] - 4s 280ms/step - loss: 0.0037 - val_loss: 8.7840e-04\n",
      "Epoch 18/100\n",
      "13/13 [==============================] - 3s 267ms/step - loss: 0.0036 - val_loss: 2.8029e-04\n",
      "Epoch 19/100\n",
      "13/13 [==============================] - 4s 285ms/step - loss: 0.0034 - val_loss: 2.6454e-04\n",
      "Epoch 20/100\n",
      "13/13 [==============================] - 3s 270ms/step - loss: 0.0026 - val_loss: 3.2963e-04\n",
      "Epoch 21/100\n",
      "13/13 [==============================] - 4s 276ms/step - loss: 0.0026 - val_loss: 2.2594e-04\n",
      "Epoch 22/100\n",
      "13/13 [==============================] - 4s 276ms/step - loss: 0.0023 - val_loss: 2.3393e-04\n",
      "Epoch 23/100\n",
      "13/13 [==============================] - 3s 268ms/step - loss: 0.0022 - val_loss: 2.0760e-04\n",
      "Epoch 24/100\n",
      "13/13 [==============================] - 3s 267ms/step - loss: 0.0040 - val_loss: 6.7702e-04\n",
      "Epoch 25/100\n",
      "13/13 [==============================] - 3s 268ms/step - loss: 0.0029 - val_loss: 2.4808e-04\n",
      "Epoch 26/100\n",
      "13/13 [==============================] - 4s 278ms/step - loss: 0.0020 - val_loss: 2.0901e-04\n",
      "Epoch 27/100\n",
      "13/13 [==============================] - 4s 282ms/step - loss: 0.0017 - val_loss: 2.2557e-04\n",
      "Epoch 28/100\n",
      "13/13 [==============================] - 4s 273ms/step - loss: 0.0020 - val_loss: 2.9963e-04\n",
      "Epoch 29/100\n",
      "13/13 [==============================] - 4s 282ms/step - loss: 0.0018 - val_loss: 2.1431e-04\n",
      "Epoch 30/100\n",
      "13/13 [==============================] - 4s 277ms/step - loss: 0.0026 - val_loss: 2.1013e-04\n",
      "Epoch 31/100\n",
      "13/13 [==============================] - 4s 285ms/step - loss: 0.0025 - val_loss: 2.6709e-04\n",
      "Epoch 32/100\n",
      "13/13 [==============================] - 4s 285ms/step - loss: 0.0024 - val_loss: 2.6806e-04\n",
      "Epoch 33/100\n",
      "13/13 [==============================] - 4s 281ms/step - loss: 0.0022 - val_loss: 3.0680e-04\n",
      "Epoch 34/100\n",
      "13/13 [==============================] - 4s 279ms/step - loss: 0.0021 - val_loss: 4.3047e-04\n",
      "Epoch 35/100\n",
      "13/13 [==============================] - 4s 285ms/step - loss: 0.0029 - val_loss: 2.3967e-04\n",
      "Epoch 36/100\n",
      "13/13 [==============================] - 4s 291ms/step - loss: 0.0023 - val_loss: 2.7303e-04\n",
      "Epoch 37/100\n",
      "13/13 [==============================] - 4s 291ms/step - loss: 0.0027 - val_loss: 4.6031e-04\n",
      "Epoch 38/100\n",
      "13/13 [==============================] - 4s 281ms/step - loss: 0.0021 - val_loss: 4.2903e-04\n",
      "Epoch 39/100\n",
      "13/13 [==============================] - 4s 286ms/step - loss: 0.0018 - val_loss: 2.4043e-04\n",
      "Epoch 40/100\n",
      "13/13 [==============================] - 4s 318ms/step - loss: 0.0017 - val_loss: 2.9513e-04\n",
      "Epoch 41/100\n",
      "13/13 [==============================] - 4s 296ms/step - loss: 0.0016 - val_loss: 2.1199e-04\n",
      "Epoch 42/100\n",
      "13/13 [==============================] - 4s 302ms/step - loss: 0.0016 - val_loss: 2.1287e-04\n",
      "Epoch 43/100\n",
      "13/13 [==============================] - 4s 307ms/step - loss: 0.0015 - val_loss: 2.2115e-04\n",
      "Epoch 44/100\n",
      "13/13 [==============================] - 4s 287ms/step - loss: 0.0020 - val_loss: 2.1542e-04\n",
      "Epoch 45/100\n",
      "13/13 [==============================] - 4s 282ms/step - loss: 0.0017 - val_loss: 2.0858e-04\n",
      "Epoch 46/100\n",
      "13/13 [==============================] - 4s 286ms/step - loss: 0.0019 - val_loss: 2.2404e-04\n",
      "Epoch 47/100\n",
      "13/13 [==============================] - 4s 275ms/step - loss: 0.0017 - val_loss: 2.1468e-04\n",
      "Epoch 48/100\n",
      "13/13 [==============================] - 4s 282ms/step - loss: 0.0024 - val_loss: 2.1138e-04\n",
      "Epoch 49/100\n",
      "13/13 [==============================] - 4s 288ms/step - loss: 0.0028 - val_loss: 4.7181e-04\n",
      "Epoch 50/100\n",
      "13/13 [==============================] - 4s 284ms/step - loss: 0.0020 - val_loss: 2.5001e-04\n",
      "Epoch 51/100\n",
      "13/13 [==============================] - 4s 279ms/step - loss: 0.0018 - val_loss: 2.1334e-04\n",
      "Epoch 52/100\n",
      "13/13 [==============================] - 4s 279ms/step - loss: 0.0016 - val_loss: 2.0288e-04\n",
      "Epoch 53/100\n",
      "13/13 [==============================] - 4s 279ms/step - loss: 0.0020 - val_loss: 2.1757e-04\n",
      "Epoch 54/100\n",
      "13/13 [==============================] - 4s 284ms/step - loss: 0.0019 - val_loss: 2.2366e-04\n",
      "Epoch 55/100\n",
      "13/13 [==============================] - 4s 279ms/step - loss: 0.0016 - val_loss: 2.1719e-04\n",
      "Epoch 56/100\n",
      "13/13 [==============================] - 4s 282ms/step - loss: 0.0014 - val_loss: 3.1745e-04\n",
      "Epoch 57/100\n",
      "13/13 [==============================] - 4s 289ms/step - loss: 0.0018 - val_loss: 2.7737e-04\n",
      "Epoch 58/100\n",
      "13/13 [==============================] - 4s 286ms/step - loss: 0.0014 - val_loss: 2.0509e-04\n",
      "Epoch 59/100\n",
      "13/13 [==============================] - 4s 282ms/step - loss: 0.0019 - val_loss: 2.3112e-04\n",
      "Epoch 60/100\n",
      "13/13 [==============================] - 4s 270ms/step - loss: 0.0040 - val_loss: 0.0013\n",
      "Epoch 61/100\n",
      "13/13 [==============================] - 4s 291ms/step - loss: 0.0034 - val_loss: 4.7765e-04\n",
      "Epoch 62/100\n",
      "13/13 [==============================] - 4s 276ms/step - loss: 0.0024 - val_loss: 2.6951e-04\n",
      "Epoch 63/100\n",
      "13/13 [==============================] - 4s 282ms/step - loss: 0.0019 - val_loss: 2.2750e-04\n",
      "Epoch 64/100\n",
      "13/13 [==============================] - 4s 286ms/step - loss: 0.0016 - val_loss: 2.0162e-04\n",
      "Epoch 65/100\n",
      "13/13 [==============================] - 4s 273ms/step - loss: 0.0015 - val_loss: 2.9920e-04\n",
      "Epoch 66/100\n",
      "13/13 [==============================] - 3s 268ms/step - loss: 0.0014 - val_loss: 1.9304e-04\n",
      "Epoch 67/100\n",
      "13/13 [==============================] - 4s 281ms/step - loss: 0.0013 - val_loss: 2.1727e-04\n",
      "Epoch 68/100\n",
      "13/13 [==============================] - 4s 277ms/step - loss: 0.0014 - val_loss: 3.1300e-04\n",
      "Epoch 69/100\n",
      "13/13 [==============================] - 4s 280ms/step - loss: 0.0013 - val_loss: 2.0375e-04\n",
      "Epoch 70/100\n",
      "13/13 [==============================] - 4s 283ms/step - loss: 0.0012 - val_loss: 1.9332e-04\n",
      "Epoch 71/100\n",
      "13/13 [==============================] - 4s 282ms/step - loss: 0.0012 - val_loss: 2.3633e-04\n",
      "Epoch 72/100\n",
      "13/13 [==============================] - 4s 280ms/step - loss: 0.0017 - val_loss: 2.0160e-04\n",
      "Epoch 73/100\n",
      "13/13 [==============================] - 4s 274ms/step - loss: 0.0013 - val_loss: 1.9163e-04\n",
      "Epoch 74/100\n",
      "13/13 [==============================] - 4s 290ms/step - loss: 0.0014 - val_loss: 1.9441e-04\n",
      "Epoch 75/100\n",
      "13/13 [==============================] - 4s 292ms/step - loss: 0.0012 - val_loss: 2.7937e-04\n",
      "Epoch 76/100\n",
      "13/13 [==============================] - 4s 286ms/step - loss: 0.0013 - val_loss: 2.0636e-04\n",
      "Epoch 77/100\n",
      "13/13 [==============================] - 4s 307ms/step - loss: 0.0014 - val_loss: 2.5370e-04\n",
      "Epoch 78/100\n"
     ]
    },
    {
     "name": "stdout",
     "output_type": "stream",
     "text": [
      "13/13 [==============================] - 4s 304ms/step - loss: 0.0013 - val_loss: 2.3283e-04\n",
      "Epoch 79/100\n",
      "13/13 [==============================] - 4s 308ms/step - loss: 0.0011 - val_loss: 2.1595e-04\n",
      "Epoch 80/100\n",
      "13/13 [==============================] - 4s 296ms/step - loss: 0.0013 - val_loss: 1.8841e-04\n",
      "Epoch 81/100\n",
      "13/13 [==============================] - 4s 290ms/step - loss: 0.0022 - val_loss: 3.0567e-04\n",
      "Epoch 82/100\n",
      "13/13 [==============================] - 4s 282ms/step - loss: 0.0050 - val_loss: 0.0013\n",
      "Epoch 83/100\n",
      "13/13 [==============================] - 4s 289ms/step - loss: 0.0044 - val_loss: 3.9163e-04\n",
      "Epoch 84/100\n",
      "13/13 [==============================] - 4s 280ms/step - loss: 0.0032 - val_loss: 2.3208e-04\n",
      "Epoch 85/100\n",
      "13/13 [==============================] - 4s 293ms/step - loss: 0.0031 - val_loss: 2.5473e-04\n",
      "Epoch 86/100\n",
      "13/13 [==============================] - 4s 282ms/step - loss: 0.0022 - val_loss: 2.2062e-04\n",
      "Epoch 87/100\n",
      "13/13 [==============================] - 4s 283ms/step - loss: 0.0023 - val_loss: 2.5774e-04\n",
      "Epoch 88/100\n",
      "13/13 [==============================] - 4s 276ms/step - loss: 0.0017 - val_loss: 1.8731e-04\n",
      "Epoch 89/100\n",
      "13/13 [==============================] - 4s 284ms/step - loss: 0.0022 - val_loss: 2.8825e-04\n",
      "Epoch 90/100\n",
      "13/13 [==============================] - 4s 278ms/step - loss: 0.0024 - val_loss: 0.0015\n",
      "Epoch 91/100\n",
      "13/13 [==============================] - 4s 276ms/step - loss: 0.0020 - val_loss: 2.1551e-04\n",
      "Epoch 92/100\n",
      "13/13 [==============================] - 4s 278ms/step - loss: 0.0020 - val_loss: 3.4910e-04\n",
      "Epoch 93/100\n",
      "13/13 [==============================] - 4s 283ms/step - loss: 0.0017 - val_loss: 2.6394e-04\n",
      "Epoch 94/100\n",
      "13/13 [==============================] - 4s 282ms/step - loss: 0.0014 - val_loss: 3.2223e-04\n",
      "Epoch 95/100\n",
      "13/13 [==============================] - 4s 282ms/step - loss: 0.0017 - val_loss: 1.9485e-04\n",
      "Epoch 96/100\n",
      "13/13 [==============================] - 4s 296ms/step - loss: 0.0016 - val_loss: 2.4046e-04\n",
      "Epoch 97/100\n",
      "13/13 [==============================] - 4s 275ms/step - loss: 0.0012 - val_loss: 1.8840e-04\n",
      "Epoch 98/100\n",
      "13/13 [==============================] - 4s 275ms/step - loss: 0.0015 - val_loss: 1.7478e-04\n",
      "Epoch 99/100\n",
      "13/13 [==============================] - 4s 282ms/step - loss: 0.0016 - val_loss: 1.9290e-04\n",
      "Epoch 100/100\n",
      "13/13 [==============================] - 4s 278ms/step - loss: 0.0022 - val_loss: 2.1009e-04\n"
     ]
    },
    {
     "data": {
      "text/plain": [
       "<keras.callbacks.History at 0x26885166af0>"
      ]
     },
     "execution_count": 30,
     "metadata": {},
     "output_type": "execute_result"
    }
   ],
   "source": [
    "model.fit(X_train,y_train,validation_data=(X_test,y_test),epochs=100,batch_size=64,verbose=1)"
   ]
  },
  {
   "cell_type": "code",
   "execution_count": 31,
   "id": "63bd8909",
   "metadata": {},
   "outputs": [],
   "source": [
    "import tensorflow as tf"
   ]
  },
  {
   "cell_type": "code",
   "execution_count": 32,
   "id": "673f4b44",
   "metadata": {},
   "outputs": [
    {
     "name": "stdout",
     "output_type": "stream",
     "text": [
      "25/25 [==============================] - 3s 57ms/step\n",
      "9/9 [==============================] - 1s 57ms/step\n"
     ]
    }
   ],
   "source": [
    "### Lets Do the prediction and check performance metrics \n",
    "train_predict=model.predict(X_train) \n",
    "test_predict=model.predict(X_test)"
   ]
  },
  {
   "cell_type": "code",
   "execution_count": 33,
   "id": "4d272ac9",
   "metadata": {},
   "outputs": [],
   "source": [
    "##Transformback to original form \n",
    "train_predict=scaler.inverse_transform(train_predict)\n",
    "\n",
    "test_predict=scaler.inverse_transform(test_predict)"
   ]
  },
  {
   "cell_type": "code",
   "execution_count": 34,
   "id": "c6fd0b4d",
   "metadata": {},
   "outputs": [
    {
     "data": {
      "text/plain": [
       "214.40324466332464"
      ]
     },
     "execution_count": 34,
     "metadata": {},
     "output_type": "execute_result"
    }
   ],
   "source": [
    "### Calculate RMSE performance metrics\n",
    "\n",
    "import math\n",
    "from sklearn.metrics import mean_squared_error\n",
    "math.sqrt(mean_squared_error(y_train, train_predict))"
   ]
  },
  {
   "cell_type": "code",
   "execution_count": 35,
   "id": "877cb092",
   "metadata": {},
   "outputs": [
    {
     "data": {
      "text/plain": [
       "154.10148592620436"
      ]
     },
     "execution_count": 35,
     "metadata": {},
     "output_type": "execute_result"
    }
   ],
   "source": [
    "### Test Data RMSE\n",
    "\n",
    "math.sqrt(mean_squared_error(y_test, test_predict))"
   ]
  },
  {
   "cell_type": "code",
   "execution_count": 39,
   "id": "01e419d1",
   "metadata": {},
   "outputs": [
    {
     "data": {
      "text/plain": [
       "array([[168.96469],\n",
       "       [168.40833],\n",
       "       [167.98409],\n",
       "       [167.36714],\n",
       "       [166.65755],\n",
       "       [165.58488],\n",
       "       [164.27231],\n",
       "       [163.34772],\n",
       "       [162.5316 ],\n",
       "       [161.79625],\n",
       "       [161.24808],\n",
       "       [161.27779],\n",
       "       [161.2366 ],\n",
       "       [161.02454],\n",
       "       [160.38138],\n",
       "       [159.57747],\n",
       "       [158.32167],\n",
       "       [156.5544 ],\n",
       "       [154.81056],\n",
       "       [153.24072],\n",
       "       [152.13145],\n",
       "       [151.0058 ],\n",
       "       [149.628  ],\n",
       "       [148.12349],\n",
       "       [146.95871],\n",
       "       [146.07057],\n",
       "       [145.41417],\n",
       "       [145.11784],\n",
       "       [145.43405],\n",
       "       [146.17862],\n",
       "       [147.1152 ],\n",
       "       [148.20229],\n",
       "       [149.00195],\n",
       "       [149.48227],\n",
       "       [149.8542 ],\n",
       "       [150.14857],\n",
       "       [150.08868],\n",
       "       [149.41902],\n",
       "       [148.03218],\n",
       "       [146.27193],\n",
       "       [144.60236],\n",
       "       [142.93622],\n",
       "       [141.42325],\n",
       "       [140.36574],\n",
       "       [139.73471],\n",
       "       [139.5693 ],\n",
       "       [139.91786],\n",
       "       [140.61388],\n",
       "       [141.24353],\n",
       "       [141.76912],\n",
       "       [142.05823],\n",
       "       [142.24805],\n",
       "       [142.53827],\n",
       "       [143.00874],\n",
       "       [143.77832],\n",
       "       [144.7794 ],\n",
       "       [145.74512],\n",
       "       [146.60829],\n",
       "       [147.3136 ],\n",
       "       [148.01541],\n",
       "       [148.8084 ],\n",
       "       [149.47008],\n",
       "       [150.156  ],\n",
       "       [150.97264],\n",
       "       [151.98422],\n",
       "       [153.01096],\n",
       "       [153.86966],\n",
       "       [154.43481],\n",
       "       [155.02782],\n",
       "       [155.71861],\n",
       "       [156.7459 ],\n",
       "       [157.93904],\n",
       "       [159.03351],\n",
       "       [160.28351],\n",
       "       [161.60428],\n",
       "       [162.83636],\n",
       "       [163.8577 ],\n",
       "       [164.6418 ],\n",
       "       [165.47227],\n",
       "       [166.30148],\n",
       "       [167.28566],\n",
       "       [168.41214],\n",
       "       [169.54283],\n",
       "       [170.66072],\n",
       "       [171.6618 ],\n",
       "       [172.32085],\n",
       "       [172.39917],\n",
       "       [172.01042],\n",
       "       [171.38548],\n",
       "       [170.86012],\n",
       "       [170.10538],\n",
       "       [169.0351 ],\n",
       "       [167.65532],\n",
       "       [166.06366],\n",
       "       [164.50867],\n",
       "       [163.00964],\n",
       "       [161.57544],\n",
       "       [160.36543],\n",
       "       [159.33244],\n",
       "       [158.6436 ],\n",
       "       [158.62512],\n",
       "       [158.57591],\n",
       "       [158.42307],\n",
       "       [158.02473],\n",
       "       [157.36003],\n",
       "       [156.77682],\n",
       "       [156.51575],\n",
       "       [156.36754],\n",
       "       [156.19695],\n",
       "       [155.85785],\n",
       "       [155.41214],\n",
       "       [154.99763],\n",
       "       [154.55797],\n",
       "       [153.70032],\n",
       "       [152.28114],\n",
       "       [150.77832],\n",
       "       [149.63808],\n",
       "       [148.94331],\n",
       "       [148.55888],\n",
       "       [148.0814 ],\n",
       "       [147.48267],\n",
       "       [146.75716],\n",
       "       [145.95622],\n",
       "       [145.41533],\n",
       "       [144.931  ],\n",
       "       [144.67117],\n",
       "       [144.69997],\n",
       "       [144.94775],\n",
       "       [145.28723],\n",
       "       [145.84329],\n",
       "       [146.66928],\n",
       "       [147.80333],\n",
       "       [148.92918],\n",
       "       [149.6455 ],\n",
       "       [150.53563],\n",
       "       [151.52057],\n",
       "       [152.33482],\n",
       "       [152.59729],\n",
       "       [152.02898],\n",
       "       [150.84053],\n",
       "       [149.39737],\n",
       "       [147.99895],\n",
       "       [146.54436],\n",
       "       [145.75104],\n",
       "       [145.79721],\n",
       "       [146.37817],\n",
       "       [147.29861],\n",
       "       [148.27562],\n",
       "       [149.26201],\n",
       "       [150.21658],\n",
       "       [150.90044],\n",
       "       [151.41602],\n",
       "       [151.86583],\n",
       "       [152.10645],\n",
       "       [151.93623],\n",
       "       [151.2791 ],\n",
       "       [150.69505],\n",
       "       [150.35995],\n",
       "       [150.22906],\n",
       "       [150.16515],\n",
       "       [149.90808],\n",
       "       [149.35957],\n",
       "       [148.71637],\n",
       "       [148.07457],\n",
       "       [147.62311],\n",
       "       [147.43074],\n",
       "       [147.32076],\n",
       "       [146.86418],\n",
       "       [145.98174],\n",
       "       [144.73544],\n",
       "       [143.33429],\n",
       "       [142.13327],\n",
       "       [141.06976],\n",
       "       [140.1242 ],\n",
       "       [139.21765],\n",
       "       [138.16876],\n",
       "       [137.214  ],\n",
       "       [136.46504],\n",
       "       [135.68987],\n",
       "       [134.93861],\n",
       "       [134.20052],\n",
       "       [133.73569],\n",
       "       [133.59   ],\n",
       "       [133.7132 ],\n",
       "       [134.13773],\n",
       "       [134.75627],\n",
       "       [135.51111],\n",
       "       [136.3634 ],\n",
       "       [137.18968],\n",
       "       [137.91953],\n",
       "       [138.65506],\n",
       "       [139.54994],\n",
       "       [140.6215 ],\n",
       "       [141.72224],\n",
       "       [142.846  ],\n",
       "       [144.02364],\n",
       "       [145.0219 ],\n",
       "       [145.83916],\n",
       "       [146.54568],\n",
       "       [147.4437 ],\n",
       "       [148.70276],\n",
       "       [150.02412],\n",
       "       [151.38452],\n",
       "       [152.52908],\n",
       "       [153.32614],\n",
       "       [153.81029],\n",
       "       [154.22147],\n",
       "       [154.58221],\n",
       "       [155.0105 ],\n",
       "       [155.39325],\n",
       "       [155.62225],\n",
       "       [155.4704 ],\n",
       "       [155.03717],\n",
       "       [154.49522],\n",
       "       [153.80511],\n",
       "       [153.11534],\n",
       "       [152.47736],\n",
       "       [151.80838],\n",
       "       [151.17091],\n",
       "       [150.89343],\n",
       "       [151.11711],\n",
       "       [151.57773],\n",
       "       [152.17073],\n",
       "       [152.66281],\n",
       "       [152.87846],\n",
       "       [152.96072],\n",
       "       [153.10674],\n",
       "       [153.36203],\n",
       "       [153.84918],\n",
       "       [154.44748],\n",
       "       [155.18878],\n",
       "       [156.09763],\n",
       "       [156.98537],\n",
       "       [157.81737],\n",
       "       [158.62762],\n",
       "       [159.26451],\n",
       "       [159.66768],\n",
       "       [160.05649],\n",
       "       [160.55997],\n",
       "       [161.29076],\n",
       "       [162.23021],\n",
       "       [163.20973],\n",
       "       [163.99442],\n",
       "       [164.59207],\n",
       "       [164.8654 ],\n",
       "       [164.7952 ],\n",
       "       [164.45332],\n",
       "       [164.30237],\n",
       "       [164.37799],\n",
       "       [164.60771],\n",
       "       [164.9807 ],\n",
       "       [165.49069],\n",
       "       [165.99442],\n",
       "       [166.32362],\n",
       "       [166.49242],\n",
       "       [166.44986],\n",
       "       [166.25734],\n",
       "       [166.27959],\n",
       "       [166.60895],\n",
       "       [167.13713],\n",
       "       [167.66978],\n",
       "       [168.05377],\n",
       "       [168.17215],\n",
       "       [168.5654 ],\n",
       "       [169.23926],\n",
       "       [169.9471 ],\n",
       "       [170.68362],\n",
       "       [171.399  ],\n",
       "       [171.96376],\n",
       "       [172.32726],\n",
       "       [172.5204 ],\n",
       "       [172.6346 ],\n",
       "       [172.86191],\n",
       "       [173.19896],\n",
       "       [173.52127],\n",
       "       [173.60971],\n",
       "       [173.50444]], dtype=float32)"
      ]
     },
     "execution_count": 39,
     "metadata": {},
     "output_type": "execute_result"
    }
   ],
   "source": [
    "test_predict"
   ]
  },
  {
   "cell_type": "code",
   "execution_count": 76,
   "id": "715e7d58",
   "metadata": {},
   "outputs": [
    {
     "data": {
      "image/png": "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\n",
      "text/plain": [
       "<Figure size 432x288 with 1 Axes>"
      ]
     },
     "metadata": {
      "needs_background": "light"
     },
     "output_type": "display_data"
    }
   ],
   "source": [
    "### Plotting \n",
    "# shift train predictions for plotting\n",
    "look_back=100\n",
    "trainPredictPlot = numpy.empty_like(df1)\n",
    "trainPredictPlot[:, :] = np.nan\n",
    "trainPredictPlot[look_back:len(train_predict)+look_back, :] = train_predict\n",
    "# shift test predictions for plotting\n",
    "testPredictPlot = numpy.empty_like(df1)\n",
    "testPredictPlot[:, :] = numpy.nan\n",
    "testPredictPlot[len(train_predict)+(look_back*2)+1:len(df1)-1, :] = test_predict\n",
    "# plot baseline and predictions\n",
    "plt.plot(scaler.inverse_transform(df1))\n",
    "plt.plot(trainPredictPlot)\n",
    "plt.plot(testPredictPlot)\n",
    "plt.show()"
   ]
  },
  {
   "cell_type": "code",
   "execution_count": 43,
   "id": "25f7d7d1",
   "metadata": {},
   "outputs": [
    {
     "data": {
      "text/plain": [
       "(1, 37)"
      ]
     },
     "execution_count": 43,
     "metadata": {},
     "output_type": "execute_result"
    }
   ],
   "source": [
    "x_input=test_data[341:].reshape(1,-1)\n",
    "\n",
    "x_input.shape"
   ]
  },
  {
   "cell_type": "code",
   "execution_count": 44,
   "id": "0d94b3ef",
   "metadata": {},
   "outputs": [],
   "source": [
    "x_input=test_data[341:].reshape(1,-1)"
   ]
  },
  {
   "cell_type": "code",
   "execution_count": 45,
   "id": "6fe7a81d",
   "metadata": {},
   "outputs": [
    {
     "data": {
      "text/plain": [
       "(1, 37)"
      ]
     },
     "execution_count": 45,
     "metadata": {},
     "output_type": "execute_result"
    }
   ],
   "source": [
    "x_input.shape"
   ]
  },
  {
   "cell_type": "code",
   "execution_count": 47,
   "id": "7886b0ef",
   "metadata": {},
   "outputs": [],
   "source": [
    "temp_input=list(x_input) \n",
    "temp_input=temp_input[0].tolist()"
   ]
  },
  {
   "cell_type": "code",
   "execution_count": 81,
   "id": "69c67bf9",
   "metadata": {
    "scrolled": true
   },
   "outputs": [
    {
     "data": {
      "text/plain": [
       "[0.14256731371321218,\n",
       " 0.14482154038822787,\n",
       " 0.13823418910457103,\n",
       " 0.13515341264871633,\n",
       " 0.1334001252348152,\n",
       " 0.14707576706324355,\n",
       " 0.14619912335629304,\n",
       " 0.14624921728240442,\n",
       " 0.14935504070131495,\n",
       " 0.15226048841577955,\n",
       " 0.14980588603631806,\n",
       " 0.14572323105823415,\n",
       " 0.14649968691296178,\n",
       " 0.14259236067626796,\n",
       " 0.14256731371321218,\n",
       " 0.15421415153412643,\n",
       " 0.15739511584220411,\n",
       " 0.15716969317470253,\n",
       " 0.1545397620538509,\n",
       " 0.15180964308077638,\n",
       " 0.1476518472135253,\n",
       " 0.16713838447088286,\n",
       " 0.16696305572949277,\n",
       " 0.16262993112085156,\n",
       " 0.16710081402629928,\n",
       " 0.16758922980588598,\n",
       " 0.16463368816530988,\n",
       " 0.1633813400125234,\n",
       " 0.1633813400125234,\n",
       " 0.16493425172197868,\n",
       " 0.17084533500313087,\n",
       " 0.17112085159674384,\n",
       " 0.1687163431433938,\n",
       " 0.16210394489668123,\n",
       " 0.16280525986224165,\n",
       " 0.1656856606136506,\n",
       " 0.17179711959924854]"
      ]
     },
     "execution_count": 81,
     "metadata": {},
     "output_type": "execute_result"
    }
   ],
   "source": [
    "temp_input"
   ]
  },
  {
   "cell_type": "code",
   "execution_count": 82,
   "id": "8c316d22",
   "metadata": {},
   "outputs": [
    {
     "name": "stdout",
     "output_type": "stream",
     "text": [
      "[0.16698524]\n",
      "38\n",
      "[0.16698524]\n",
      "39\n",
      "[0.16698524]\n",
      "40\n",
      "[0.16698524]\n",
      "41\n",
      "[0.16698524]\n",
      "42\n",
      "[0.16698524]\n",
      "43\n",
      "[0.16698524]\n",
      "44\n",
      "[0.16698524]\n",
      "45\n",
      "[0.16698524]\n",
      "46\n",
      "[0.16698524]\n",
      "47\n",
      "[0.16698524]\n",
      "48\n",
      "[0.16698524]\n",
      "49\n",
      "[0.16698524]\n",
      "50\n",
      "[0.16698524]\n",
      "51\n",
      "[0.16698524]\n",
      "52\n",
      "[0.16698524]\n",
      "53\n",
      "[0.16698524]\n",
      "54\n",
      "[0.16698524]\n",
      "55\n",
      "[0.16698524]\n",
      "56\n",
      "[0.16698524]\n",
      "57\n",
      "[0.16698524]\n",
      "58\n",
      "[0.16698524]\n",
      "59\n",
      "[0.16698524]\n",
      "60\n",
      "[0.16698524]\n",
      "61\n",
      "[0.16698524]\n",
      "62\n",
      "[0.16698524]\n",
      "63\n",
      "[0.16698524]\n",
      "64\n",
      "[0.16698524]\n",
      "65\n",
      "[0.16698524]\n",
      "66\n",
      "[0.16698524]\n",
      "67\n",
      "[[0.16698524355888367], [0.16698524355888367], [0.16698524355888367], [0.16698524355888367], [0.16698524355888367], [0.16698524355888367], [0.16698524355888367], [0.16698524355888367], [0.16698524355888367], [0.16698524355888367], [0.16698524355888367], [0.16698524355888367], [0.16698524355888367], [0.16698524355888367], [0.16698524355888367], [0.16698524355888367], [0.16698524355888367], [0.16698524355888367], [0.16698524355888367], [0.16698524355888367], [0.16698524355888367], [0.16698524355888367], [0.16698524355888367], [0.16698524355888367], [0.16698524355888367], [0.16698524355888367], [0.16698524355888367], [0.16698524355888367], [0.16698524355888367], [0.16698524355888367]]\n"
     ]
    }
   ],
   "source": [
    "# demonstrate prediction for next 10 days\n",
    "from numpy import array\n",
    "\n",
    "lst_output=[]\n",
    "n_steps=37\n",
    "i=0\n",
    "while(i<30):\n",
    "    \n",
    "    if(len(temp_input)>100):\n",
    "        #print(temp_input)\n",
    "        x_input=np.array(temp_input[1:])\n",
    "        print(\"{} day input {}\".format(i,x_input))\n",
    "        x_input=x_input.reshape(1,-1)\n",
    "        x_input = x_input.reshape((1, n_steps, 1))\n",
    "        #print(x_input)\n",
    "        yhat = model.predict(x_input, verbose=0)\n",
    "        print(\"{} day output {}\".format(i,yhat))\n",
    "        temp_input.extend(yhat[0].tolist())\n",
    "        temp_input=temp_input[1:]\n",
    "        #print(temp_input)\n",
    "        lst_output.extend(yhat.tolist())\n",
    "        i=i+1\n",
    "    else:\n",
    "        x_input = x_input.reshape((1, n_steps,1))\n",
    "        yhat = model.predict(x_input, verbose=0)\n",
    "        print(yhat[0])\n",
    "        temp_input.extend(yhat[0].tolist())\n",
    "        print(len(temp_input))\n",
    "        lst_output.extend(yhat.tolist())\n",
    "        i=i+1\n",
    "    \n",
    "\n",
    "print(lst_output)"
   ]
  },
  {
   "cell_type": "code",
   "execution_count": 105,
   "id": "67d0149b",
   "metadata": {},
   "outputs": [],
   "source": [
    "day_new=np.arange(1,101)"
   ]
  },
  {
   "cell_type": "code",
   "execution_count": 110,
   "id": "6f727d4a",
   "metadata": {},
   "outputs": [],
   "source": [
    "day_pred=np.arange(101,131)"
   ]
  },
  {
   "cell_type": "code",
   "execution_count": 111,
   "id": "035699c4",
   "metadata": {},
   "outputs": [
    {
     "data": {
      "text/plain": [
       "1258"
      ]
     },
     "execution_count": 111,
     "metadata": {},
     "output_type": "execute_result"
    }
   ],
   "source": [
    "len(df1)"
   ]
  },
  {
   "cell_type": "code",
   "execution_count": 112,
   "id": "d44de799",
   "metadata": {},
   "outputs": [],
   "source": [
    "df3=df1.tolist()\n",
    "df3.extend(lst_output)"
   ]
  },
  {
   "cell_type": "code",
   "execution_count": 113,
   "id": "64791e1e",
   "metadata": {},
   "outputs": [
    {
     "data": {
      "text/plain": [
       "[<matplotlib.lines.Line2D at 0x26894ef7d30>]"
      ]
     },
     "execution_count": 113,
     "metadata": {},
     "output_type": "execute_result"
    },
    {
     "data": {
      "image/png": "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\n",
      "text/plain": [
       "<Figure size 432x288 with 1 Axes>"
      ]
     },
     "metadata": {
      "needs_background": "light"
     },
     "output_type": "display_data"
    }
   ],
   "source": [
    "plt.plot(day_new,scaler.inverse_transform(df1[1158:]))\n",
    "plt.plot(day_pred,scaler.inverse_transform(lst_output))"
   ]
  },
  {
   "cell_type": "code",
   "execution_count": 114,
   "id": "cd1efeba",
   "metadata": {},
   "outputs": [
    {
     "data": {
      "text/plain": [
       "[<matplotlib.lines.Line2D at 0x26894f663d0>]"
      ]
     },
     "execution_count": 114,
     "metadata": {},
     "output_type": "execute_result"
    },
    {
     "data": {
      "image/png": "iVBORw0KGgoAAAANSUhEUgAAAYIAAAD4CAYAAADhNOGaAAAAOXRFWHRTb2Z0d2FyZQBNYXRwbG90bGliIHZlcnNpb24zLjQuMywgaHR0cHM6Ly9tYXRwbG90bGliLm9yZy/MnkTPAAAACXBIWXMAAAsTAAALEwEAmpwYAABHZUlEQVR4nO29eXxkZ3Xn/T21V2krSa1Wq9XqxXbb7faCl/bG4oANBjsknkw2lhAS8sYfMzDgEMgLk8ybTJY3kxkSsjE4DhBIIHEIIUCIAWOwMXhv2+2227243ZvU2nepSrU/88ddVCqVpJJUWqrqfD+f/nTp3lu3nlvL/T1nec4RYwyKoihK7eLZ6AEoiqIoG4sKgaIoSo2jQqAoilLjqBAoiqLUOCoEiqIoNY5vowdQjC1btpjdu3dv9DAURVEqhmeffXbYGNO2kuduSiHYvXs3Bw8e3OhhKIqiVAwicnalz1XXkKIoSo2jQqAoilLjqBAoiqLUOCoEiqIoNY4KgaIoSo2jQqAoilLjqBAoiqLUOCoEiqIowEQ8zdefP7/Rw9gQVAgURakpsjnDD08M8WLPxJzt//pcD/f88yHOjcQ3aGQbhwqBoig1xSe+dpj3fv5p3v/lZ8lvzHV+fAaAMyOxjRrahqFCUIXkctp1TlEW4olTIwD0jM1wanj2pt8/kQDgrAqBUumcG4lz8e98m28cqk1fp6IsRi5n6J9I8PYrOwD44fEhd1/vhGMRqGtIqXCePjNKJmf48P2HGI2lNno4irKpGI4lSWcNN+xp4YK2Oh45MSsEahEoVcOJgSn38UNHBzZwJIqy+egdt272HU1hrt3ZzLG+SQAy2RwDk9a+08MqBEqFc6x/ir1b6wEYsGc4ilILGGM4NxInk80B8PjJYX7qr37Mk3ZMAKDPDgh3RENsawoxPJ0kk80xNJ0kZ6Ap7Kd7dIZsjcXZNmU/AmXlHOub5PV7tzA8naR/UoVAqR2eODXCu/72KQD+5e6beM/nnyabM3z9+fPceEErAL325Gh7U5j2xhA5AyOxlGsp3LCnhQdfHmDff/82gqz7NWypD/D4J25d99dVIagS+icS/M7XX2RwKsml2xp5uXeSgcnkRg9LUdaNwbzv+5eePEs2Z6gLeHnu3Ji7vXd8hrDfSzTip70xBMDAZMKND7zv9Xu4tKORlG1VrDd1Ae+GvK4KQZXwted7eOjoIAD7tzfy45MhBqfUIlBqh0Q66z5++Jj1W/j5A1184fEzTMTTNEX89E3M0BENISK0NwYBaxLVa7uM9m1rcK2HWkJjBFXCk6dG6YyG+fyvHOC1F7bS3hh0ZzmKUgskM9YsvinsZzKRoTHk47b97QA8121ZBefHZtjeFAaYtQimkrzQM862xhBNYf8GjHzjUSGoAjLZHM+eGeWWfVu5ZV+7PduZDYQpSi3gWASXbW8E4IK2eq7aGSXg9fAfh/s4OxLj8PkJrtkZBWBLfRCPWEkVz5wZ5bo9LYisf1xgM6CuoSrgpd5JYqnsHJM2PxDmzHwUpZpJpK1Jz2XbG3n81REuaKsjEvDxnpt28XePnWZoKolXhHffuAsAr0doawjy3LkxBiaTXLe7eSOHv6GoRVAFvHTeKp51lT3TgVmzV91DSq2QyGTxe4W97Q0AXLClDoAPvOkimiMBfnhiiJ++avuciVF7Y4jHX7XSSw/saln/QW8S1CKoAsbsFcRt9UF3mxMIG9AUUqVGSKSzhHxeLt1muYYusf9vqQvw8MfeSP9Egl2tkaLPbW8Mcsm2hnUb62ZDhaAKGIunqQt4CfhmDbz8QJii1AKJdI6g38sVO5r41/ffxNVds66expCfxtD8QPBNF7ZyuGeCz733Orye2owPQImuIRF5m4gcF5GTIvLxIvv3icgTIpIUkY8W7IuKyFdF5JiIHBWRm8o1eMViPJ4iGgnM2RaNWF/6ibjWG1Jqg2Q6S9CeDF27qwVPCTf2j912CYd/7zYu72xa6+Ftapa0CETEC3waeAvQAzwjIt80xrycd9go8CHgPxU5xV8A3zHG/JyIBIDitpmyYsbiKZrr5s52gj4vYb+X8Xh6g0alKOtLIpMl5F9e2NPn9dDo1VBpKe/A9cBJY8wpY0wKuB+4M/8AY8ygMeYZYM5dR0QagZuBz9nHpYwx4+UYuDLLaDxNc4FFAFY+9cSMCoFSGyTSOUL+jVmZW+mUIgSdQHfe3z32tlK4ABgC/k5EnheRz4pIXbEDReQuETkoIgeHhoaKHaIswHg8VVQIohEVAqV2SGayKgQrpBQhKOZoK7U0nw+4BviMMeZqIAbMizEAGGPuM8YcMMYcaGtrK/H0ClhZQ82R+YGwxrCf8Twh6B6NMzytwWOlOrEsAnXzrIRS3rUeoCvv7x1Ab4nn7wF6jDFP2X9/FUsYlDKRyeaYTGTmBYsBomE/k3lC8Ib/9TBv+t+PrOPoFGX9cNJHleVTihA8A+wVkT12sPcdwDdLObkxph/oFpFL7E23Ai8v8hRlmTiun2IWQVPY7waLnSbdU8nM+g1OUdaIv330FG/65CN84bHT7rZEWl1DK2XJrCFjTEZEPgh8F/ACnzfGHBGRu+3994rINuAg0AjkROQeYL8xZhL4r8CXbRE5Bfzq2lxK7ZHMZDludyRrrls8RqDZQ0o18e+Hezk9HON/fOtlfubqHTRF/PY6AnUNrYSSFpQZYx4AHijYdm/e434sl1Gx5x4CDqx8iMpC/PEDx/jC42cAirqGmsJ+ZtJZkpksfVpqQqkSEuksR/smuWZnlOfOjfP0mVHesr9dg8WrQOWzgnmhZ9x93FJMCOxtEzNp+idn1mtYirKmHO2bJJ01vPe1uwn6PDxh1wpKpHPugjJleei7VsHsapldmxddIEYAMBFP0z9hZQv5angZvVIdHOoeB+D6PS0c2N3ME6ccIVCLYKWoEFQwU4nZwO+WvIJzDlFHCGbS9E9YFkFdUMtLKZXNiz0TbG0I0tEU5sY9rRztm7R6b+SMZg2tEBWCCmYykeaGPS08/du3Ei7S69SxCMbjabeRfSqjjWqUymZoOsn2qNVl7KYLrR4cj56wFqHqOoKVoe9aBTM5kyEa8bO1oXjjGbfw3EzaDRbPpLNuKqmiVCJTiQwNIcuyvXJHlLDfyyPHHSFQi2AlqBBUMJOJdNHSug6ORTA8nZyTNeR0clKUzUoqk+MX7n3CbUKfz1Te9z7g83BgdzMPH7eOU4tgZei7VsFMzqRpXKTZdmPIzyXtDfzF91/h5OA02+weBfGULipTNjdHeid4+swoXznYPW9fvkUAcOMFrW68TC2ClaFCUKFksjliqeyiFoHHI/yfX7oGv9fDbfvb+fCb9wIQT2XXa5iKsiKePTsGwGMnh8lk51qwhUJwacdsZ7GgBotXhKaQVCjODKgxvPhHeGFbPY9//BYiAS/fOtwHWHECRdnMPH9uHIDJRIYXeia4dpfVbSydzTGTztKQNwHauzVPCNQ1tCL0XatQJhNWyYjFLAKHuqAPESFiZxbNqEWgbGKMMRw8O8rNF7chYlkFDtP2BCjfIui0M4gATR9dISoEFYIxZk62z+SMYxEsLQQOToqpuoaUjSCeyjCVWLrmVe9EgoHJJLfu28rOlgjH+6fcfVOuEMx+7/NbUmqweGXou1YhvP9Lz3Hnpx8jbftLZy2C0r17kYB17Exag8XK+vORf36Bn/3M42Rzi6cvP2fHB67Z2czerQ2cGJgVAud731DwvXdKS2iweGWoEFQI3znSz+GeCf74gWMAbp+B5VgEEbUIlA3CGMOTp0c4MTDNv7+weDuTZ8+OEfZ72dfRwN72ek4Px9wJ0FQR1xBAl11uRZfIrAwVggrBSf38wuOnebl3ctYiWI5ryK9CoGwMZ0fijMfTeAQ+++NT8/b3Tczwa194hnMjcZ47N8aVO5rwez1c3F5PJmc4MxwDcF1LhbGxe3/pWt5+ZQcXba1f+4upQlQIKoRYKsN/vrqTprCf3//WEbfPwHJcQ06MIKFZQ8o641TKff3eNk70T89zDz1/bpzvHxvk5v/9MC/3TrpZQk5G0Fs+9Sh/99hp1yKoL6iZddHWev76XdcQ0OqjK0LftQphJpWlIxriI2+5mCdPjfK1587jEagLLCdGoBaBsjE8f26csN/LbfvbSWVz9I7PLYuePznxeIRb9m0FrPRnh08/fJLpZHHXkLI69N2sAFKZHJmcIRLw8c7rd/KlJ89xrH+KjqbQnIyJpXBS61QIlPXmSO8El3c2ujf2Y3YmkOPbj9k3+Mc+fgvbGkN47e91OODl3Tfs5P5nuklmcq5rqKGEtGmldFQIKgCnJETY78Xn9fDZ9x7ghZ5xDuxqWdZ5PB4h7PcyoyUmlHWmdzzBDXta2LOlDoBf//uDAJz+4zsQEWL25KQlEnBFwOGPfuYK9m1r4L9/4wgnBqYJ+jzqAiozKgQVgDODd1w7XS0Rdya1XMIBr1oEyrqSyxkGJhO0N4VobwxakxHbFTQaS9FaHySWzOCRhdcBXNxuxQqePTum1sAaoLJaAbhCUIamMvk/QkVZD0ZiKTI5Q0dTCBFhV+vsJGZg0uqcN53MUBewVsAX45JtlhCcH59ZVoKEUhoqBBWA4xqKlGGxTCTg1RITyroyYDdFardToB33UP6+WDKzaPe8aCRAe6PVhU8DxeVHhaACKHQNrYZI0OdmXiyGMYbvvNSnHc2UVdNv98Jw1sL84nVd/MzVnUCeEKSyRIKLf7/f/xMX8toLW/m5A11rONrapCQhEJG3ichxETkpIh8vsn+fiDwhIkkR+WiR/V4ReV5EvlWOQdcaM2V0DbU3BN0f32K8MjjN3V96jkeOz28MoijLoc/+vm1rsoTgjZds5U9+9kpg1jUUS2bmrQ0o5Fdet4d//PUbec+Nu9ZwtLXJkkIgIl7g08DtwH7gnSKyv+CwUeBDwCcXOM2HgaOrGGdNE3NcQ2WwCLZHw/SOLy0EzoK1mGYYKatkYCKB1yNsqQ+62wI+D611AbeXdsyOESgbQykWwfXASWPMKWNMCrgfuDP/AGPMoDHmGWBeaUER2QH8JPDZMoy3JnFcQ+EyxAi2R0NMJzNuiYqlXlNdQ8pq6Z9MsLUhOC8ttL0xxKArBFnqlnANKWtHKULQCeT3i+uxt5XKnwO/BSx6RxGRu0TkoIgcHBoaWsbpq5d77n+eHxwbmHUNlcEi6GiyarcXruwsJG7HEVQIlNXSP5FwA8X5tDcGGZhyYgSLB4uVtaUUISiWz1VSjT8ReTswaIx5dqljjTH3GWMOGGMOtLW1lXL6qiaZyfL1Q7287wsHXfdMOX4o2+0mHn1LuIcciyCpQqCskt7xGTqaiglBiP6J2RiBCsHGUYoQ9AD5YfodwOJ1ZGd5HfDTInIGy6V0i4h8aVkjrFGcTkxgNaERma25vhq2R60fZO/EEhaBLT4qBMpqSKSznB2Ns7dIVdD2xhAjsSTJTNZeR6CuoY2ilDvLM8BeEdkjIgHgHcA3Szm5MeYTxpgdxpjd9vN+YIz5pRWPtoaIJWdz/Z94dZiI37vgYpvlsLXBquOypGtIYwRKGTg1FCObM+xtb5i37+L2BoyBI72TJNI5tQg2kCXfeWNMRkQ+CHwX8AKfN8YcEZG77f33isg24CDQCORE5B5gvzFmcu2GXt3k5/q/0DNBW0NwkaNLx+sRtjWGSnYNpbIqBMrKeWXQKi7nrAzO55pdUQAee8XqSbxU+qiydpT0zhtjHgAeKNh2b97jfiyX0WLneAR4ZNkjrFEKF32VI1Ds0NEU4vySFoEGi5XVc7x/Cp9H2N1aN29fR1OYbY0hfmQLQUTTRzcMXVm8SXHK8jp1WcqROuqwPRqmb6JEi0CFQFkFJwamuaCtbsFqodfsivL0mVEATR/dQFQINilTthA4nZqWavi9HDqiIfonEuQWOeds1pDWJVJWziuDU26XsWJcs7PZfayuoY1DhWCT4lgE1+22eg6cG42X7dyd0TCpbI7hWHLBY9Q1pKwWY6zy006mWjHeetk297G6hjYOFYJNyqwQWDOmcqZxOovKFgsYa7BYWQkzqSxv/dSj/PDEEPFUlkQ6N6e0RCH5fTXKGQdTlocKwSbFadK9Z4uVf71Qw46V4CzuWSyFVGMEykp48fwExwemePzVYUamUwC0LiIEAH/0M5cDFF10pqwPaottUmLJDJGAF69H+Nf330Rbffl+JJ326uLeRQLGurJYWQmHe8YBODcSd12PrfWBRZ/z7ht28fPXdmn7yQ1EhWCTMp1XlvfaZfYmXopoxE/I71nCItCVxUrpjMVSNNcFONwzAcDZkTjDU5YQbKlbeg2MisDGou/+JmW6hPrsK0VE2N4Upm+RMhPqGlJK5aXzE1zzh9/jxZ4J1yI4OxJj2HUNLW4RKBuPCsEmZa2LcG2Phjm/SLB4RoVAKZEXz09gDDx0dIAzI3G2NgSJpbKcGLBWFasQbH5UCDYpa2kRgJWtcXYkhjHz1xIYY9yKp5o1pCzFmeEYAPc/cw6AO6/aDsDz58ZoCPkI+jQbaLOjQrBJmU5m19QiuGhrPePxNKOx1Lx9yUwORx/UIlCW4rQtBAOTSQJeD3deZbUreaFnYtHUUWXzoEKwSZlOpmkIra0QAJwcnJ63L5ZX50hXFitLcWYk5j5+TVcTe9vr8XutSrmtdeoWqgRUCDYpa926zxGCj331MG/91KNz9uW3xlSLQFmMXM5wdiTONrsD2Q17Wgn6vNxxRQcAYV0kVhGoEGxSrBiBf83Ov70pRCTg5dxonOMDU26zepgVgmjEr0KgLEr/ZIJkJsfPH9jBtsaQWzLiV167G1i6JaqyOdB1BJuQVCZHKpOjfg0tAhHhwrZ6Xjxv5X2fH5uhKWwJj7OGIBoJMDy9cD0iRXECxTde0Mpv3naJu/3qnc186JaLeMPF2na2ElCLYBPy8PFBAC5om9/er5zkNwvpGZstaudYB1vqA6SzZtEqpUpt0zNmzfi7miPz9n3ktkvcoonK5kaFYJNhjOHTD59kZ0uE2/a3r+lrffS2S/ji+64HoHts1oQfsleE7mi2SlEUppD+2fdO8OWnzq7p2JTKwOl93d6k2UGVjArBJqN3IsHhngl++aZd+Lxr+/Fsawpx894t1AW8cyyCIdsdtN2uUlpYZuJfDnbzH4f71nRsSmXQP5FgS31Q1wpUOBoj2GRM2m6Z7XZhuLVGRNjRHHFNfLAsgvqgj2jEihnkB4wz2RwDkwkaQ2sXyFYqh96JxfsNKJWBWgSbDCeHfz27Ne1oDtMzNoMxhslEmqGpJG0NQbcQWL5raGg6Sc7AyCJNbZTaoW98RstHVwEqBJsMp2n9Wq4qLmRHc5ie0TjfPzrIgT94iJfOT9BWnycEeRZBr12faDSWWvcg8omBqbK27FRWzomBKX73Gy/RMzbjNjpSKhcVgk3G9AZYBHu21DGVzPCNF3pJZXOcGYmzpSFAwGv5ffNXFzsVS3MGxvPWHqw13aNxbvvUo/zJd46t22sqC/M/v32MLz5xlpl0Vl1DVUBJQiAibxOR4yJyUkQ+XmT/PhF5QkSSIvLRvO1dIvKwiBwVkSMi8uFyDr4aODcS5zf++ZBb7dN1Da1heYlCruyKAvDdl/rdbW31QYK2RfCZR151g8n9ec1sRtZxjcFM2np/HjzSv8SRSiGPnhjiS0+WN8urJa90hFoElc+SQiAiXuDTwO3AfuCdIrK/4LBR4EPAJwu2Z4DfNMZcCtwIfKDIc2uaHxwb4N+eP88zZ0YBq9gcQP06NvLe39GIzyNzYgH5MYJvHOrl68+fB2ZdQ4Bbb349yNlV8EbW8TWrhb977DR/8u1jRSvNrpT8elQaI6h8SrEIrgdOGmNOGWNSwP3AnfkHGGMGjTHPAOmC7X3GmOfsx1PAUaCzLCOvEpx2kc+fGwdgOuHECNYvHS/k93JpRyMAHqtW2BwhgNmbft/EDF77oGKVS9eKdMa6iU3l3YCU0ugem2EqmaF/cuH+E8tlcGrWGty9pa5s51U2hlKEoBPozvu7hxXczEVkN3A18NQC++8SkYMicnBoaGi5p69Yztu1WA51jwEQS2UI+T1rvoagkNd0NQFws10SoFAInEVmfRMJ9toF69Yzc0j7IizMD44NEE9leNufP8o3Dp2fs88Y47r1XhmYX2l2pQxNJbnzqu2c+MPbtdR0FVDK3UaKbFuWjSki9cC/AvcYYyaLHWOMuc8Yc8AYc6CtrXbqk/S5QjCOMWbNG9IsxO2Xd3BFZxPvuXEXALta69wYAcwKweBkgks7GhFZX9dQfuZSOV0clU73aJz3feEgX3z8LMf6p1zL0mF4OkUibb13Tsew1WKMsVKM64Paa7hKKOWO0wN05f29A+gt9QVExI8lAl82xnxtecOrfnrHEwR8Hsbiac6OxJlOrG2LyoV43UVb+Pf/+noAHv/4LWyPhjk5OHvjcIrPjcXTbKkP0BwJrGuwOJ1nEUzOZGiK6II2mF0F/uL5cQAGCtw/+SvGy2URxFJZZtJZ2hrUEqgWSpHzZ4C9IrJHRALAO4BvlnJyERHgc8BRY8yfrXyY1Uk6m2NgKsEbbXfMoe5xYhtkEeRTbFXz0FSSRNq6AUQjAVrrAusbI8gTAqe+jQLjceszeLnXMrTzffd/9r0TfOj+5wGrQcwrg6VbBH/0Hy/zvZcHiu5zrEMVguphSSEwxmSADwLfxQr2fsUYc0RE7haRuwFEZJuI9AAfAX5HRHpEpBF4HfAe4BYROWT/u2PNrqbC6J9IYAy88ZKtRAJenj83xvQaN61fDhdsqeeDb7qIX75pF1PJDIOT1g0gGvGzrSnktihcD/KFoE+FwGUsZuVnnBmxZv75FsFffv8Vuket9+pN+7ZyvL+0BXnGGL7w+Jl58QaHQfs1tjZotlC1UNIdxxjzAPBAwbZ78x73Y7mMCvkxxWMMCrNNO7pawlzR2cSh7nGyxtC+SX5gHo/w0bdewj/bTcmdGWU0HODGC1r539897pajWGuSRVY3KzAWn2uVDU4lMcZgGeOzvGHvFr76bA/H+ie5bHvTouccj6dJZ42byFCI445Si6B60EjPBuK4OLZHw1y9s5mX+yYZmU5tGovAwfnBO/2NmyN+bt5rubN+fHJ9MrzS2dmZ7GAZ0yArnfH43NXdqUyOiZn0nNXgu1sjXLurGYCDZ8aWPKfjXjo/toAQqGuo6lAh2EB6bLO9Mxrmqq4o6ayhbyKx6YTASQ98xRaCpoify7Y30loX4NETw+syhnzX0MCkFrxzGJ+ZH6cZnEq6GV3/46cv4zv33ExnNExHU8hduLgYg1MJ9zz/zxef4fe+ecTdl8rk+MrBHrY2BImGNWBfLWyuO06NcW40TntjkJDfy9U7o+72hnUsL1EKzszPEYJoJIDHI1y3u4UXesbXZQxO+uj2ppB7o1KsLC4Hr0fI5gyDk0nqQ5ZFsKM5TMhvLU48sLuFgyUIwVBewPmho4PstxcbAvzDk2c52jfJfe+5Fo9Hvb7VgloEG8i50Tg7W6wWf+2NIbbbS/Xr1rG8RCm01tmuoQEnRmDNBHc0h+kdn1mzvP6Tg9Pc+qePMDSVdC2CHS0RtQjyGM+LEVzYZq3wHZhMuDfz/IDuRW319E0k5lhXxcjPPALmxAoOdY9b3fPsJvVKdaBCsIF0j8bpapnt9XqVbRWsZ3mJUgj4PHRGw8RSWQJeD5GANb7t0TCJdG7OrLScHOoe59WhGMf7p9yVxTuaw2oR5DEWS9NoW5BOEHhwKum+R/l+/KawddzkElVjBwuEdmImzVTCes650Ti7Wuf3J1YqGxWCDSKZydI3mXAtAoCru6yA3mZzDQFcZJeVaIr43YwUZ71B7/gMh3vG+YuHXinrazqz2uHppOsa2hENMzydWnJWWyuMx1Ncsq0BgF2tEZrCfs6OxBiaSiICrfWzVUKdRXgTSwnBVILOaJj8xCPHKiicvCjVgQrBBnF+bAZjmCME1+yKAtAUDizwrI3DqS+UHyDstIXg/PgMf/PoKT710AkmE+WzDvKFIJ3N4fMI2+ySx8PruKp5MzMWT7O/o5Hrd7dww55WDuxq5qnTowxNJWmJBPDn1axqCpcmBENTSTqjYbY3hWlvtCyKntEZphJpRmOpOd9ZpTqoSSGYTmb4x6fObWjNmnOj1gKgOUKws5m/ec+13LJv60YNa0Eci6A5MitSTkOS7tE4j520sofOjcTnP3mFOPnqVozA4Pd63BvTcuMEveMzvPuzT84puVDpOCu92xqCfOXum7jpwlZuurCV08MxDvdMzEvvXI4QtDUE+T/vvobP/NK1gFWqwlmc1tWsQlBt1KQQPHC4j//2by/y6tD6rYwtpLuIEIgIb71s26Ys5LW3fdY15NBSFyDo8/DgywNuPvuZkfK9p0O2n3vIdg35vUJ7oyU+hTV1luIjXznEYydH+PErw8ykslz1+w/ywIt9ZRvrRuDc0KN54vzaC7cA8OL5lQvBoC0Er+mKcnVXlJDfw/nxmaKTF6U62Hx3nHXAWcgV28Da9oNTSTxCxZTwvajN8kPnu4ZEhM5omKdPz6Yknilj2YlZ11CKVDZHwOdlq31zW86isuHpJE+essaYzOR44tQw4/E0f/n98sY01htnVXE0T5z3bWug1e4e9nPXzl3s32h/dosFizPZHNPJjGv5OZ9xz9hM0cmLUh1svqjkOuC0W4ylNk4IxuNpmsL+isnFbor4+YmL27hud8uc7U6jmDuu2MazZ8fcmjflwBWCqSTtDUECXqG1PogIDC2jBPZTp2aFaiSW4ridBuu4uyoVp4lRQ2hWCDwe4esfeB1Bv2deLaBSLIKY0yEvL2FhR3OEnrEZttQHaQz5tPJrFVKTFkGfLQTxZHaJI8tPz1icZ86MMjGTdn+YlcIX33c9v3Bd15xt77p+J10tYf7kZ69kV2sdZ8vkGkqks0zaNzonWOz3efB6hLDfS3wZ1pzjrgr6PIxMJ/n+UauqpnP+SmXa6W9dkG7c1RIpWhAu6PMS8nsWFYLp1PxzdjaHXdfQTk0drUpq0iJw/MsbYRH82YMnePSVIfZvb6Ipsvmyg5bLb7zlYu55815EhN2tER4+Xp7aQ/n1bEZiVnMVJwMmEvARSy0t4s+cGeX3vnmE3a11tDVYs9nDPRNuoHloqrIzj5zZ+3JKkjSF/YsLQcIRgtlJyo7mMKOxFMf7p9zMNqW6qBkhGIul6Bmb4YodTbMWQQk3k3JzfGCK4ekUI9NJWiskPrAUzrqCnS0Rt2+BU9ZgpTgZQ5d2NPLoiSEGpxIEbCGoC3qJLyLiJwenePLUKP0TCY70TvLK4DSv2dGEIDxvtwTd2RKp+BRUJ8a1nJXoSwpBcn7P7B12llD/ZELXEFQpNeMa+thXX+Cn/vrH9E3MuD+E9RaCXM5wys5UOjMcq7qiXY6vuhxBeGe2fmmHFaTum0jg981aBIt9dv/0dDe/8/WXeO6cddNPZXLsaq2jpS7gVjG9emeUkelkSfX5Nysx142zfCGYSWX5zkt981KoHSFomBMjmG1UpIHi6qRmhMCpxvjFx8+625bjZy4HvRMzzKStG1gslZ2T7VENhG0rIJFZ/apfx33nlE0YmEwQ8FqWRySwuEXg1Mp58tSIu213a4QWe5WtR+CKziZyZn49/0rCtQiWLQQZ7vqHg9z9pefcwPli59wRVSGodmpGCPZssQpyffZHp9xtpfiZy4lTz9+h0oLFSxH0W1+nRHr172vP2AxBn4cL7M8tZ3DXV0QCXtc/Xgxn/UH+ZH9nax1b7LTKbY0hOqpghfJ0MovfK8tad9IY9nO0b5IfvWItAHQy6NxzJuZbGVvymtSrEFQnNSMEzgwyk3d3iKcyJNJZ/t+vHl6wG1M5KVzAVm1C4MQFZsogsD1jcTqj4TnvkRMsrgv4SrIIAF7TFQXggi2WawisLBhnsVUlB4xjK2hrWvidKywwN5WcLwQej7AjGsYjxftZK5VPDQlBlss7G/ntOy7l56/dQXtjkFgyy3Pnxvjng928/0vPrvkYTg5OE8ybvUWrIGsoH8c1lN8da6WcH5uhszlMY2i+EESC3kVjBPk394/ddgl//a6ruWx7Iy12cH5Hc4Qttpso3yJIZ3NlsWbWi1gys+yS5Y5If+ytlwDMq+S6kLupszlMR1N4Tu0ipXqomayhWDJDNBzg12++AIC3/NkPiacyjMYsH/HhngmyOYN3DRd49Y7PsLe9nhP906SyuSq2CFYfI+gZm+G27U1zFjblu4YWEoJEOstUIkNdwEssleXSjgY3O8tZcbujOcyWAotgcCrBO+57kvqgj3/7L69b0+9BuYilMssKFAP82uv30FIX4O6fuJC//dGpeTWbppMZgj7PvBv+h2/du2blxpWNp2bkPZ7KunX0ASJBKxc930f6xKsjxZ5aNoank2xtCLmlgas2WLzKWXU8lWEklmJHcxivR6izP7dAnmtoocwk58Z+z5sv5vO/cmBOiq5TzqOrOUJD0EfA52HETiL4b197ibMjcQ73TPD158+vavzrRSyZXXbvir3tDfzW2/bh9QjtDSHOjMT4k+8cY8yeEE0nM0XLoB/Y3cJb9reXZdzK5qOmhCDf3K0LeJlJZeYULzs1PF3sqWVjeDrJlvqAKwTVZxFYX6eZVQpBrx2vcdIWnbRUv5s15COZyRVN/XTiA3vb67ll39wb18Xt9fyvn72St7+mAxEhGva7xfK6R+Pcum8rl3c28jePvrqq8a8X0yuIEeSztTHIj14Z5jOPvMqnHjphnTOxunMqlUlJQiAibxOR4yJyUkQ+XmT/PhF5QkSSIvLR5Tx3vYinMnMtgoCPWDJL/2TSLW08vYbppLmcYWQ6xZb6oNv6sdrWEYTKZBF0jxUKgXVjclxDziy4WMB4qEhnLgcR4Reu6yJi+9WjkdnFVTNpa6Jw++UdnBiYdmfIm5lYcvmuoXzyy1D841Pn6B6Nr/qcSmWypBCIiBf4NHA7sB94p4jsLzhsFPgQ8MkVPHddsMzoPIvAXp06MJFgV0sdXo+UvRrpZCLtdtaamEmTyRm21AddF0VjtQrBKtcRnLeFoDNqpSo675Pjtw4HHCGYLzjFevUuRDQcYHzGuuHP2KuhD+yyusQ5i9E2MyvJGsrHmQBtbwqRyRl+9MowU6s8p1KZlGIRXA+cNMacMsakgPuBO/MPMMYMGmOeAQqjSUs+dz3I5gwz6azrw4bZejX9kwnam0JWcLGMRehSmRxX/t6D/NZXXwBmSya0NQS5oK2ObY2hVZdh2Gw4rqHEKtNHndm4k+7pWgR5MQIovoLZKe/tPHcxmiKzrqFEyvp+XLkjis8jHDxbAUKQyrrxk5XglPS+/YoOfB6he8yyCBpUCGqOUoSgE+jO+7vH3lYKq3lu2XB81vmBNWtRUob+yQTbGoPUB31ldQ05FS6/fqgXsEopgxWw/PU3XMB37nlD2V5rs1Au19D4TJq6gNd1BTkxgvysIShuETjlvUvJ+omG57qGwgEP4YCXyzqbePbM5hYCY0wZLALLarpudzPb7Z4Dq407KJVJKUJQ7BdVaoGWkp8rIneJyEEROTg0VJ4Klg5OKYlIYG6wOJ7KksrkaG8MURdcOBNlJdz/jKV/u+2yvbMWQYCAz1N1awjAct34PDInWDwRT/PH3z46L199MSZm0nPeH8cicBeU2TeqYkKQzuZKXmkbtS2CdDZHJmdci/Gy7Y2cHFrbxIHVksxYY17NTfvmi9u45817eeMlW+lqCc/GCIpkDSnVTSm/mB4gvwj9DqC3xPOX/FxjzH3GmAPGmANtbW0lnr40nBvGHIsg7we0rckSgnJZBMYYHn/VWsLfN5HAGOPWOqqUjmQrJeT3kkhbMYJ0Nsev//1B/uaHp/jHp86VfA5nVu9QKAROjKBYGfFUNlfyoqemsJ+ZdNa1ChyLpiUSYDyeIreJC9LFiqwAXi51QR/3vPliQn4vXc0ResbiTCU0WFyLlPKLeQbYKyJ7RCQAvAP4ZonnX81zy4Zzwwj751oEDpe0N1AX9JbNIphMZEhnDbtaIyQzOf71ufN8/fnz+L1SdSmjhYT8XtciONwzztNnRvF5hEdPlG7lTcyk5rxPjQWuISdGUKyxUDpr3FjCUjj9IJy1JI7ARCN+cma23MJm4XDPOB/48nNksrkV9SJYjK6WCMPTKZKZnApBDbLkL8YYkwE+CHwXOAp8xRhzRETuFpG7AURkm4j0AB8BfkdEekSkcaHnrtXFLERRi8C+mdQFvOxtb7AXKZUnWOwEO6/otCpnfuyrL/Di+QnSWePW7q9WQn4PSVsInMVaN1/cxqHucSZKXJk6Hk/PWWzX6AaLZ6uPQnGLIJ0p3SJw0ned/hSOa8hxS41vssqkDx4Z4D9e7KNvIrFgd7KVkl9qen9HY1nOqVQOJf1ijDEPGGMuNsZcaIz5I3vbvcaYe+3H/caYHcaYRmNM1H48udBz15tYkRiBk4PurJYsZ7B41L6BXLnDEgKn5PtqMjwqhbDfS8KuNeRk5Nx51XZyBh6z3WVLMT4zVwhmF5TNjREUK26XyeXweUsTW+c1+idm3LEDNNvbxwuE65WBKQ784fc4tUHxg3N28/ih6WReA5nyWQQOt+zbWpZzKpVDTdiAxSyCN+9v5/vHBvlvP3mpvW/xipbLwbEILrctAoB/+LXr3SyNaibk97o3aKfW//V7rIb3vSVUeDXGMBFP0xSeHywuzBoqHiMwy7AIbNfQ5HzXUP74Hb79Uj/D0ylePD/BBW3r3/jeEYLhqaQ75t2tdWU594VbrOv5xO378FRAnSWlvNSEEBRr6dfRFOYLv3q9+7eVNVQe15BTyK6rOUJLXYBoxM8b9pY3AL5ZCfk9brB4LJ7G7xXa6ktfuT2TzpLK5ha1CII+Dx5ZIEaQyZUcI3BeYyHXUGFLRyfO0TO29iXLi9GdZxE8fXqUjqbQHJfOamiK+Dnxh7cvq7eBUj3UhBA4FkF4EddMfdBLKpsjlSk9/XAhRvMWRL3r+p1l+7FWAiG/lym7ucl4PEU0EsDn9RDye0pqDercfPPLb+xsiRDwedymKCJixXSKxQiyObdBzlI4K5bnBYvt7fllJiYTaZ7vHgdKs2zKzXTSKsQH1urpZ86McsOe1rLGnFQEapeaEoLFarc7vtZYMkPAt7oc/9F4ioDPQyTg5aN23fdaIeT3umUexuIp199eagzG8cvnZw1tawpx7PffNsdlEQl6i1sEOUN9iRZBQ9CHR/KEwLYInNfOL7t88Mwo2ZzB75V1aWJUiGMNADx/bpyBySTX7W5e93Eo1UlNTAHiqQwisyUQiuEIQTkCxmOxFC2RQNVnCBUj7Pe6K4vH4rMLw0pdsOcKQUGJ7kK/dSTgI15kBXM6k8PnKe1r7fFY6byOa8hZR+DzemgM+ea4hrpHrZv/lTuibi2k9cSJD3gEHjtpBd0P7G5Z93Eo1UlNCEEsmaUu4Fv0xuzkThdzNyyX0Via5hJq3VQj+TGC8TyLYLEeAmC5Xv7q+6/wia8dBmYDuQsRCXjdFeP5WCuLSxfg1vqgu+4h33UYjQTmBIt7x2cI+Dxc0dlE7/gMxqzvYjPHIri0o5FMzhAJeLm4vWFdx6BULzUhBNPJ9JINPPJdQ6tlNJakpa66F44tRCgvfXQsnqbZtgiWcg398QPH+NPvneDMiHXDW6ppz2IxguW0U2zNE+z8ooTNEf8c11DvRMINzsZS2XmB5LXm3GichpCPi7Za2T2XdzZVRBc1pTKoCSEYjaXcG9JCOAtzpsuQOZR/A6w1wnb6qDHGDRYD9srthd/bg2dG+YmLZzOrllqBvVDf4vQy0kcBt2UlMKcabDQSYKLAItjeFKbTbt6+3nGCc6NxdrZE3Ays1+xoWuIZilI6VSsEX3ryLF85aBV+G7YbwixGeS2C1JyZZi0R9HtJZnJMJ60yG65rqEiMYHAywch0klgyw6tD01zVFeW799zMx2/ft+RCqYX6FlsWQekzZefGGvB55sywo4UWwfgM26NhtttC0DdeehG9cnBuNM6u1ogrXK/piq7r6yvVTdVmDf3T0+fwez38woEuRmMpN/VwIZyMotUGi1OZHBMztRsjcNwrTgvQxVxDH7r/eZojAd73+j3kjFWS45JtDVyybWnfdyTgWzBGsBLXUKQgtbg5EnDTRzPZHAOTCbZHQ25lznLEkkollzP0jM7wlv3t7N1aT9Dn4cAuDRQr5aNqhcAqMW3N6EZjqSUblZTLIjgxMAXAhRuw8nQz4GRm9doz5ugiFsHAZJJkJseLPRMAXLEMd0ddwEusjK6hcEGToI6mEFPJDP/+Qi+/+S8vkDOwPRp2jytW3mIteHVomoNnRkllc+xsiXDLvq088ztvdgvxKUo5qFohmE5mmIinSaSzTCczS7pqZvvgru4H/tJ5+6bWWZs+XOdG2WfX75mTPprKkssZNxV0KpHG6xFe6p1ga0NwWSU4IguUBFlOGWqYtQgKhWCX3Ufikw8ed9uNbo+GXcthZpXNd0rlk989zrdf6geshXUioiKglJ2qjRHEkxlS2RynhmKAlSa4GEGfF79XVu0aevH8BA0hn3sjqTWc1bpOGYaou6DMFtq8G+hkIsNUIs3QVJKO6PJWX0f8XtJZ496kHTLLjBE4FkFh29CdLXVzrgOgMxp2j1vthKFUXuqdyBtTbX6nlLWnKi2CXM64boNj/ZNAaT1sl9OlbNxdPTz3LXzp/ASXb2+qycVkMNs7wLmBOn/nu97qgz6SGas73FQiw+RM2u0NUCqRvAqkTmmEbM6QMyzLInCCxYXlR3baQp7NGW7Zt5X/fE0nF7ZZ4iCy+nacpTAxk3YXsgFuoFpRyk1VWgT5s86jfZYQtNaXIASB0sogfOPQea76/e9x4A8fmpNPns7mONo/tSxfd7XRGLZu0D1j8Tl/1xes3HbqEcVTWUZiqWU37KkrUoE0nbWsg2W5huqLu4bqgz430+zKHU28/crtiAgiQiSvwupa4nx3f/MtF/P7d162rOtSlOVQlRZBfjbJsX4reFuKRVBfokXwyoBVjz6eyjIwmXBvYn3jCVKZnLvopxbJtwh8HnFvsE5WlvP+Tidm3+f+iQRN4eV9FR2LID9OkHKFoHRrLBLwEQl457mGwIoTDE8n532e4YC3aHmLcnOk1xKCX7y+i60N1V/CXNk4qnKKkT+rd2ZVW+qW7hW81KInh5G8qpT5FoFTI35bDfQdWAhHFPttgXRcZIW1nKbyhCCTM0uWlCgkUsRXn8laZR+WO3Pe0RwuuhJ8l+2TL8wAC/m9JNbJIthSH1QRUNacqrEIjDH8wt88wR1XdHBdXjGu4ekUPo+4LorFqAv65tygFmJOeeI8IXBy57c11e4P12kiY8xs4BjyajnZQjuVmFuiYbmuoYgdfM4X7pW4hgA++8vXFS1BcmlHI/UvD7Bny9zmL5GAd12yhvomZuhq0biAsvZUjUUgIrw6FOPVoel5fv7mutIqgZbqGhqNp2hvtCyMycR8IWiv4Rmcz+tx/fdOr2GYvXGfHp4mmckyWSC4y48RFHENZZbvGgIrMFwsq+y9r93NQx/5iXluo7C/+KrmcjMynaK1BEtWUVZL1VgEYBcKi6Xn5Zfn17BZjFKzhkZjKXa31jEwmZzTkH1wKknQ5ynJ+qhmGsN+YqlsUYvg/3/gGOPx9LxZduNyhcCxCFLzLYJyNVgJ+DxFrbuQf30sgtFYitfsiK756yhKVd2xWuoCjMZSbuG4P//FqwgHvNxmN6hfilKbp4zFUly7s5mnTo/Omdn2TyRobwzVbOqoQ2PIqvFfTAgAHjk+NK/203ItgnDASR/NzxqyYgSl9iNYKZGAd06caC0wxlg1q0rIdlOU1VI1riGw68PEU+6s/vo9Lbz1sm0l35gjdtmCxWrN53KGsXiKrY1B6gLeOcHigclETQeKHZybev4K2Lqgjz+48zIO7GpmYDIxLxazVNnpQtz00aIxgrUV4vACBe/KyeRMhkzOlJTtpiirpaqEwLEI3Gb1S1SwLKQu6CObMyQLVqvmMzGTJmcs0WkK++cEiwenkmxtVJ+u4xordJG956bdvP3KDkZiKU4OTc9pMr/sYHFBjOCHJ4b498O9APjXuPduaB3WEQzHrHafahEo60FJvxgReZuIHBeRkyLy8SL7RUT+0t5/WESuydv3GyJyREReEpF/EpE1mzI31zkWgdOjePFmNIXUl1B4znEJtNYHaAz7GZ5O8rkfnyadzbmuoVrHsQSK3dz3b7cW2z19eoRoxE/QvmkvVwgCPg9+rxBLZYmnMvzGPx/ib354ytq3xguv8ttxrhWjzvdMg8XKOrDkL0ZEvMCngduB/cA7RWR/wWG3A3vtf3cBn7Gf2wl8CDhgjLkc8ALvKNvoC2iJBEhnDQNTCYI+D75l3hDqClIci+G0L2yOBGgM+Xn4+BB/8K2XefDIADPprJtNVMs0FnENOezrsEpMD0wmaQj5aAj58XlkXhnoUgj7rXaV//jUOffGCctPH10uC/VCKCcj05ZFoK4hZT0o5RdzPXDSGHPKGJMC7gfuLDjmTuDvjcWTQFREOux9PiAsIj4gAvSWaezzcPzM3aPxZbuFIL9L2SIWwbR1w2mpC8wJhh7qHgNQi4DZtNFimUCNIT/77H4DDSE/jSHfnIVny6Ep4ufEwDR/+6NTc7b71jpGYGcNrWXfYsfyXKqhkqKUg1KEoBPozvu7x9625DHGmPPAJ4FzQB8wYYx5sNiLiMhdInJQRA4ODQ2VOv45OLOn82MzS/YoLoZrESzSdMSxCCwhmBWbZ89aQrCjWRcAzVoExcX43TfsBKxa+w0hH03LDBQ7/OKBLp44NcLAZJIDu5rd7WvtGgrZ1stisaTVMmpPOJprtPe1sr6U8ospNr0qnAoVPUZEmrGshT3AdqBORH6p2IsYY+4zxhwwxhxoayst778QpytY91jcXXC0HArLIBTDcUG01AXm+LVftPsQdEa1VLAjBAv5/X/mmh3WcSE/HXl9gJfL+16/h/bGINfsjPLWy7a529fcNbQOpahHYikagj6CvuVPaBRluZRyt+wBuvL+3sF8985Cx7wZOG2MGQIQka8BrwW+tNIBL0aLXco4nTUrdA0tHSwenk5SZxcpy/eBW52xhK0Naspf0dnEni117G6tK7q/Pujj6x94Hc0RP40hP7kVulgiAes8QZ+XB4/0u9vXI30U1rY5zYiuIVDWkVLuls8Ae0VkD3AeK9j7roJjvgl8UETuB27AcgH1icg54EYRiQAzwK3AwbKNvoD8PsErEYJS2lUOTSVps2/2hT7w7dGw232rlrm0o5GHP/rGRY+5qkzN1zuaLGuiIU+U19oiCLntKteub/HwVFIDxcq6seQvxhiTAT4IfBc4CnzFGHNERO4Wkbvtwx4ATgEngb8F/ov93KeArwLPAS/ar3dfuS/CId8nHV1mOiJAvdvAfuGZ3vD0rBA4ro/tdhmClbo4lNXTkPfZr33WkLOqee1iBANTmoqsrB8lTZuNMQ9g3ezzt92b99gAH1jgub8L/O4qxlgyIkLQ5yGZyfGhWy9a9vPd+jVLWASX2FkvV3Q2cdHWel5/0Ra+8PgZDRRvIHOFYO2zhmBtXUODk0lu3ruyWJmiLJeqqjUE8B8fegMtdYEVmdU+r4egz7OkELz+oi0AXLKtgYc+8hP8y0ErYUoDxRvHHNfQGq8sDges8xcWNywX08kM08lMTZczV9aXqhOC1XYHq1uk8JxTPrkwt9v5wXaqRbBh5LsF/WtcdC7st15rrVYXu+XMdXGisk5UVa2hclAXXHjV6LCd291WkBl0VVeUO67Yxhv2blnz8SnFmRssXp+sobVKHx2YcIRALQJlfag6i2C1LNbAfmjKWvZfKAQNIT//593XrvnYlIUJ+WfnNN41ztzaYqd1Dtrfh3KjLU+V9UaFoICFupQNTCb40QlrxXOhECgbT36JirXuB9EQ8tMc8XNuNF7W837hsdPs397EwKQlMGoRKOuFCkEBdUEf4/H5TUfu/tKzPH9uHND6Lwp0tUToLqMQxJIZ/uA/jnJ5ZxNXd0VpCPpWtBZGUVaCxggKyO9S9u8v9PKobQWM57Wk1BWfSqEQ3PfoqzxyfHDF53uhe5xszvBC9ziPvzqsfS2UdUWFoIC6oNctQ/2nDx7ncz8+DUCrnY7q9YjWf1Hoao5wfnyGbM4qj/Hph1/lXw72rPh8B8+OIWJ9v04MTLsrphVlPVDbswCngb0xhoHJpOsGmkykecv+dj71i1dt7ACVTcHOlgjprKF/MkFbfZCJmTQjsZUHj589O8bFWxv42Ws7OTMS5x3XdS39JEUpEyoEBdQHfcRSGSYTGWbSWWJ2iuDkTIbmiH9OE3Zlc/GTV3bw5Ksj6/JaXS3WjL17NI7PzlJyelUsl1zO8Ny5MX7qNdu56+YLyzZGRSkVvasVUBf0kTNwbsTy/zoZRJOJdNGOW8rm4dPvumbpg8rEzhZrFfm50bhb3iK/S9pyODMSYyqR4aod0XINT1GWhcYICnAyNU4NTwOWEKSzOeKpbNGOW0ptsj0axiPQMxp3LYHReMqNGSwHp5fF5Z1NZR2jopSKCkEBTrvKV4digFX3ZSphWQULddxSag+/10NHU5hzo3E3NmAMRVOPl+Kl8xMEfR72tq+uPIqirBQVggKcEsOnhy0hSGZyrsmvFoGST1dLmO6xmTmxgZFluoeMMRzumeDSjsY1L5+tKAuh37wCnGDwqaFpd1vfxAyAxgiUOexsiXBuNO7WoILlBYynkxkO/OFDPHV6lCvULaRsICoEBbgxAts1BNA3btV+UYtAyaerOcLQVJKesdmFZctJIe0ejbsWxH++prPs41OUUlEhKMCJEeQ3Hel1LIKwxgiUWXa2WplDL/SMuyWjl5M55BSt+5e7b+Lqnc3lH6CilIgKQQH59V2aI5YF4FoE6hpS8uiyU0i7R2fcPhjDy3ANDTp9Bxq0uJyysagQFJAvBG/Z3w7kWwQqBMosXc2zHenaG0JEI35Gl+EaciwCrSukbDQqBAXUBWaF4Kdesx2AvokEHoG6gNYYUmbZUh9wmxFduLWerQ1BDvdMlLyWYGgqSUPIR8iv3ytlY1GndwH5TU2c1aN94zM0hv1rXudeqSxEhH/4tRuIpzKE/V62NgT52FcPc9+jp3j/G5cuFTEwmWCr9rZQNgFqERThA2+6kL/71etcN1EsldX4gLIgkYAPEeHnrt3B9btb+Nbh3pKeNziVZKvGB5RNQElCICJvE5HjInJSRD5eZL+IyF/a+w+LyDV5+6Ii8lUROSYiR0XkpnJewFrwsbfu402XbJ1TYE57EChLISJc1tnI6eEYxiztHhqcSmh8QNkULCkEIuIFPg3cDuwH3iki+wsOux3Ya/+7C/hM3r6/AL5jjNkHvAY4WoZxrwtBn8d1Fe3b1rDBo1EqgQu21BFPZZfsZ2yMYXAyqa4hZVNQikVwPXDSGHPKGJMC7gfuLDjmTuDvjcWTQFREOkSkEbgZ+ByAMSZljBkv3/DXFhFxA3/7tjVu8GiUSmD3ljpg7oLEYkwmMiQzOXUNKZuCUoSgE+jO+7vH3lbKMRcAQ8DficjzIvJZEakr9iIicpeIHBSRg0NDQyVfwHqhFoFSCntsIXBqVS3Ey72TAHREVQiUjacUISiWKlPoAF3oGB9wDfAZY8zVQAyYF2MAMMbcZ4w5YIw50NbWVsKw1he1CJRS2N4UJuDzcGZkcSH4zA9fpbUuwC37tq7TyBRlYUoRgh4gv2/eDqAwLWKhY3qAHmPMU/b2r2IJQ8XRFNGsIWVpPB5hT2vdHNdQOpubc8wL3eM8emKIX3vDHrfaraJsJKUIwTPAXhHZIyIB4B3ANwuO+Sbwy3b20I3AhDGmzxjTD3SLyCX2cbcCL5dr8OvBf3njhbz3pl0bPQylguhqidAzFscYw/u+8Ayv/Z8/mLP/r35wkqawn1++affGDFBRClhyOmKMyYjIB4HvAl7g88aYIyJyt73/XuAB4A7gJBAHfjXvFP8V+LItIqcK9m16futt+zZ6CEqFEY34OdKb5isHu/nBsUEAkpksQZ+Xk4PTPHR0gN9488Xa/1rZNJT0TTTGPIB1s8/fdm/eYwN8YIHnHgIOrHyIilJZNIX9TMykeer0qLttOpEhWO/l5OAUALdeqrEBZfOgK4sVpcxEw37iqSxDeWsJnHank/b/TVrAUNlEqBAoSplxEgvyM4emk5YAOILQoP2vlU2ECoGilBlntn9+bIY2e+WwIwBTiTSAxgeUTYUKgaKUGUcIcga6msPAXIsgEvDi00b1yiZCv42KUmby/f9OKfPppGUJTCXS6hZSNh0qBIpSZqKR2Uq1jhDMuoYyNGhJc2WToUKgKGUm3yLYUVQI1CJQNhcqBIpSZhrzbvTbGkP4vZIXI0irRaBsOlQIFKXM+LweGuysoJa6APVBH9NqESibGBUCRVkDGm33UDTipyHkd9NGJxOZORaDomwGVAgUZQ1w4gTNEdsiSGbI5gxTibT2v1Y2HSoEirIGRCN+Aj4PkYCX+pCPh44OctnvfodkJqeuIWXToUKgKGtAU9hPc8SPiLiuoETa6kugwWJls6FTE0VZA375pt28ye4+VlhOQi0CZbOh30hFWQNuurCVm2gFmFdOQi0CZbOhriFFWWO6R+Nz/laLQNlsqBAoyhrjZBBd0t4AgGzkYBSlCDo1UZQ15n/+7JX84nVjXLkjymd/dIprdzVv9JAUZQ4qBIqyxrTUBbj10nYAPnHHpRs8GkWZj7qGFEVRahwVAkVRlBpHhUBRFKXGKUkIRORtInJcRE6KyMeL7BcR+Ut7/2ERuaZgv1dEnheRb5Vr4IqiKEp5WFIIRMQLfBq4HdgPvFNE9hccdjuw1/53F/CZgv0fBo6uerSKoihK2SnFIrgeOGmMOWWMSQH3A3cWHHMn8PfG4kkgKiIdACKyA/hJ4LNlHLeiKIpSJkoRgk6gO+/vHntbqcf8OfBbQG5lQ1QURVHWklKEoNhCSFPKMSLydmDQGPPski8icpeIHBSRg0NDQyUMS1EURSkHpSwo6wG68v7eAfSWeMzPAT8tIncAIaBRRL5kjPmlwhcxxtwH3AcgIkMicrbkq5jLFmB4hc/drOg1VQZ6TZVBtV7TrpU+WYwpnNwXHCDiA04AtwLngWeAdxljjuQd85PAB4E7gBuAvzTGXF9wnjcCHzXGvH2lgy0FETlojDmwlq+x3ug1VQZ6TZWBXtN8lrQIjDEZEfkg8F3AC3zeGHNERO62998LPIAlAieBOPCrKx2QoiiKsr6UVGvIGPMA1s0+f9u9eY8N8IElzvEI8MiyR6goiqKsKdW4svi+jR7AGqDXVBnoNVUGek0FLBkjUBRFUaqbarQIFEVRlGWgQqAoilLjVI0QLFUYr1IQkTMi8qKIHBKRg/a2FhH5noi8Yv+/qVtcicjnRWRQRF7K27bgNYjIJ+zP7biIvHVjRr04C1zT74nIefuzOmSvl3H2VcI1dYnIwyJyVESOiMiH7e0V+1ktck0V+1mJSEhEnhaRF+xr+h/29vJ9TsaYiv+Hldb6KnABEABeAPZv9LhWeC1ngC0F2/4X8HH78ceBP9nocS5xDTcD1wAvLXUNWIUMXwCCwB77c/Ru9DWUeE2/h7U2pvDYSrmmDuAa+3ED1nqh/ZX8WS1yTRX7WWFVbqi3H/uBp4Aby/k5VYtFUEphvErmTuCL9uMvAv9p44ayNMaYR4HRgs0LXcOdwP3GmKQx5jTWWpTr2WQscE0LUSnX1GeMec5+PIVVIbiTCv6sFrmmhaiEazLGmGn7T7/9z1DGz6lahKCUwniVggEeFJFnReQue1u7MaYPrC86sHXDRrdyFrqGSv/sPmj34Ph8nmlecdckIruBq7Fmm1XxWRVcE1TwZ2X3dDkEDALfM8aU9XOqFiEopTBepfA6Y8w1WD0ePiAiN2/0gNaYSv7sPgNcCFwF9AF/am+vqGsSkXrgX4F7jDGTix1aZNumvK4i11TRn5UxJmuMuQqrjtv1InL5Iocv+5qqRQhKKYxXERhjeu3/B4F/wzLpBvL6O3RgzQoqjYWuoWI/O2PMgP0DzQF/y6z5XTHXJCJ+rBvml40xX7M3V/RnVeyaquGzAjDGjGNVaHgbZfycqkUIngH2isgeEQkA7wC+ucFjWjYiUiciDc5j4DbgJaxrea992HuBb2zMCFfFQtfwTeAdIhIUkT1YXe6e3oDxLRvnR2jzM1ifFVTINYmIAJ8Djhpj/ixvV8V+VgtdUyV/ViLSJiJR+3EYeDNwjHJ+ThsdES9jZP0OrAyBV4Hf3ujxrPAaLsCK9r8AHHGuA2gFvg+8Yv/fstFjXeI6/gnL/E5jzU5+bbFrAH7b/tyOA7dv9PiXcU3/ALwIHLZ/fB0Vdk2vx3IZHAYO2f/uqOTPapFrqtjPCrgSeN4e+0vA/2dvL9vnpCUmFEVRapxqcQ0piqIoK0SFQFEUpcZRIVAURalxVAgURVFqHBUCRVGUGkeFQFEUpcZRIVAURalx/i94IUW6Zva8wgAAAABJRU5ErkJggg==\n",
      "text/plain": [
       "<Figure size 432x288 with 1 Axes>"
      ]
     },
     "metadata": {
      "needs_background": "light"
     },
     "output_type": "display_data"
    }
   ],
   "source": [
    "df3=df1.tolist()\n",
    "df3.extend(lst_output)\n",
    "plt.plot(df3[1000:])"
   ]
  },
  {
   "cell_type": "code",
   "execution_count": 115,
   "id": "4c580e9e",
   "metadata": {},
   "outputs": [],
   "source": [
    "df3=scaler.inverse_transform(df3).tolist()"
   ]
  },
  {
   "cell_type": "code",
   "execution_count": 116,
   "id": "f1d97ef6",
   "metadata": {},
   "outputs": [
    {
     "data": {
      "text/plain": [
       "[<matplotlib.lines.Line2D at 0x26894fca640>]"
      ]
     },
     "execution_count": 116,
     "metadata": {},
     "output_type": "execute_result"
    },
    {
     "data": {
      "image/png": "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\n",
      "text/plain": [
       "<Figure size 432x288 with 1 Axes>"
      ]
     },
     "metadata": {
      "needs_background": "light"
     },
     "output_type": "display_data"
    }
   ],
   "source": [
    "plt.plot(df3)"
   ]
  },
  {
   "cell_type": "code",
   "execution_count": null,
   "id": "ad7cfc51",
   "metadata": {},
   "outputs": [],
   "source": []
  },
  {
   "cell_type": "code",
   "execution_count": null,
   "id": "2d2f80e3",
   "metadata": {},
   "outputs": [],
   "source": []
  },
  {
   "cell_type": "code",
   "execution_count": null,
   "id": "67d10939",
   "metadata": {},
   "outputs": [],
   "source": []
  },
  {
   "cell_type": "code",
   "execution_count": null,
   "id": "9bf64c4d",
   "metadata": {},
   "outputs": [],
   "source": []
  },
  {
   "cell_type": "code",
   "execution_count": null,
   "id": "d10301e9",
   "metadata": {},
   "outputs": [],
   "source": []
  },
  {
   "cell_type": "code",
   "execution_count": null,
   "id": "c6e305e4",
   "metadata": {},
   "outputs": [],
   "source": []
  },
  {
   "cell_type": "code",
   "execution_count": null,
   "id": "4ecc7372",
   "metadata": {},
   "outputs": [],
   "source": []
  },
  {
   "cell_type": "code",
   "execution_count": null,
   "id": "9ab5b7dc",
   "metadata": {},
   "outputs": [],
   "source": []
  },
  {
   "cell_type": "code",
   "execution_count": null,
   "id": "266ccb92",
   "metadata": {},
   "outputs": [],
   "source": []
  },
  {
   "cell_type": "code",
   "execution_count": null,
   "id": "5a250e24",
   "metadata": {},
   "outputs": [],
   "source": []
  },
  {
   "cell_type": "code",
   "execution_count": null,
   "id": "c27e4fdd",
   "metadata": {},
   "outputs": [],
   "source": []
  },
  {
   "cell_type": "code",
   "execution_count": null,
   "id": "0968308f",
   "metadata": {},
   "outputs": [],
   "source": []
  }
 ],
 "metadata": {
  "kernelspec": {
   "display_name": "Python 3 (ipykernel)",
   "language": "python",
   "name": "python3"
  },
  "language_info": {
   "codemirror_mode": {
    "name": "ipython",
    "version": 3
   },
   "file_extension": ".py",
   "mimetype": "text/x-python",
   "name": "python",
   "nbconvert_exporter": "python",
   "pygments_lexer": "ipython3",
   "version": "3.9.7"
  }
 },
 "nbformat": 4,
 "nbformat_minor": 5
}
